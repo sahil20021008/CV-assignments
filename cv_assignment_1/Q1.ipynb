{
  "cells": [
    {
      "cell_type": "code",
      "execution_count": 4,
      "metadata": {
        "id": "jmdsXvKCMyiR"
      },
      "outputs": [],
      "source": [
        "import torch\n",
        "import torchvision\n",
        "import wandb\n",
        "import numpy as np\n",
        "import torch.nn as nn\n",
        "import torch.nn.functional as F\n",
        "import torch.optim as optim\n",
        "from torchvision import datasets, transforms\n",
        "from torch.utils.data import DataLoader\n",
        "from torch.utils.data.sampler import SubsetRandomSampler\n",
        "from torch.utils.data import Dataset\n",
        "from torchvision.datasets import ImageFolder\n",
        "from torchvision.transforms import ToTensor\n",
        "import matplotlib.pyplot as plt\n",
        "import pandas as pd\n",
        "import seaborn as sns\n",
        "import os\n",
        "import scipy.io"
      ]
    },
    {
      "cell_type": "code",
      "execution_count": 3,
      "metadata": {
        "colab": {
          "base_uri": "https://localhost:8080/"
        },
        "id": "5pDFRQ9pPU-d",
        "outputId": "d2a86b76-db16-4397-8e02-0481fd7dc5a4"
      },
      "outputs": [
        {
          "name": "stdout",
          "output_type": "stream",
          "text": [
            "Looking in indexes: https://pypi.org/simple, https://us-python.pkg.dev/colab-wheels/public/simple/\n",
            "Collecting wandb\n",
            "  Downloading wandb-0.13.10-py3-none-any.whl (2.0 MB)\n",
            "\u001b[2K     \u001b[90m━━━━━━━━━━━━━━━━━━━━━━━━━━━━━━━━━━━━━━━━\u001b[0m \u001b[32m2.0/2.0 MB\u001b[0m \u001b[31m59.3 MB/s\u001b[0m eta \u001b[36m0:00:00\u001b[0m\n",
            "\u001b[?25hRequirement already satisfied: typing-extensions in /usr/local/lib/python3.8/dist-packages (from wandb) (4.5.0)\n",
            "Collecting sentry-sdk>=1.0.0\n",
            "  Downloading sentry_sdk-1.15.0-py2.py3-none-any.whl (181 kB)\n",
            "\u001b[2K     \u001b[90m━━━━━━━━━━━━━━━━━━━━━━━━━━━━━━━━━━━━━━\u001b[0m \u001b[32m181.3/181.3 KB\u001b[0m \u001b[31m23.3 MB/s\u001b[0m eta \u001b[36m0:00:00\u001b[0m\n",
            "\u001b[?25hCollecting GitPython>=1.0.0\n",
            "  Downloading GitPython-3.1.31-py3-none-any.whl (184 kB)\n",
            "\u001b[2K     \u001b[90m━━━━━━━━━━━━━━━━━━━━━━━━━━━━━━━━━━━━━━\u001b[0m \u001b[32m184.3/184.3 KB\u001b[0m \u001b[31m21.3 MB/s\u001b[0m eta \u001b[36m0:00:00\u001b[0m\n",
            "\u001b[?25hRequirement already satisfied: PyYAML in /usr/local/lib/python3.8/dist-packages (from wandb) (6.0)\n",
            "Collecting pathtools\n",
            "  Downloading pathtools-0.1.2.tar.gz (11 kB)\n",
            "  Preparing metadata (setup.py) ... \u001b[?25l\u001b[?25hdone\n",
            "Requirement already satisfied: protobuf!=4.21.0,<5,>=3.12.0 in /usr/local/lib/python3.8/dist-packages (from wandb) (3.19.6)\n",
            "Requirement already satisfied: Click!=8.0.0,>=7.0 in /usr/local/lib/python3.8/dist-packages (from wandb) (7.1.2)\n",
            "Requirement already satisfied: requests<3,>=2.0.0 in /usr/local/lib/python3.8/dist-packages (from wandb) (2.25.1)\n",
            "Requirement already satisfied: setuptools in /usr/local/lib/python3.8/dist-packages (from wandb) (57.4.0)\n",
            "Requirement already satisfied: psutil>=5.0.0 in /usr/local/lib/python3.8/dist-packages (from wandb) (5.4.8)\n",
            "Requirement already satisfied: appdirs>=1.4.3 in /usr/local/lib/python3.8/dist-packages (from wandb) (1.4.4)\n",
            "Collecting setproctitle\n",
            "  Downloading setproctitle-1.3.2-cp38-cp38-manylinux_2_5_x86_64.manylinux1_x86_64.manylinux_2_17_x86_64.manylinux2014_x86_64.whl (31 kB)\n",
            "Collecting docker-pycreds>=0.4.0\n",
            "  Downloading docker_pycreds-0.4.0-py2.py3-none-any.whl (9.0 kB)\n",
            "Requirement already satisfied: six>=1.4.0 in /usr/local/lib/python3.8/dist-packages (from docker-pycreds>=0.4.0->wandb) (1.15.0)\n",
            "Collecting gitdb<5,>=4.0.1\n",
            "  Downloading gitdb-4.0.10-py3-none-any.whl (62 kB)\n",
            "\u001b[2K     \u001b[90m━━━━━━━━━━━━━━━━━━━━━━━━━━━━━━━━━━━━━━━━\u001b[0m \u001b[32m62.7/62.7 KB\u001b[0m \u001b[31m9.2 MB/s\u001b[0m eta \u001b[36m0:00:00\u001b[0m\n",
            "\u001b[?25hRequirement already satisfied: chardet<5,>=3.0.2 in /usr/local/lib/python3.8/dist-packages (from requests<3,>=2.0.0->wandb) (4.0.0)\n",
            "Requirement already satisfied: certifi>=2017.4.17 in /usr/local/lib/python3.8/dist-packages (from requests<3,>=2.0.0->wandb) (2022.12.7)\n",
            "Requirement already satisfied: urllib3<1.27,>=1.21.1 in /usr/local/lib/python3.8/dist-packages (from requests<3,>=2.0.0->wandb) (1.24.3)\n",
            "Requirement already satisfied: idna<3,>=2.5 in /usr/local/lib/python3.8/dist-packages (from requests<3,>=2.0.0->wandb) (2.10)\n",
            "Collecting urllib3<1.27,>=1.21.1\n",
            "  Downloading urllib3-1.26.14-py2.py3-none-any.whl (140 kB)\n",
            "\u001b[2K     \u001b[90m━━━━━━━━━━━━━━━━━━━━━━━━━━━━━━━━━━━━━━\u001b[0m \u001b[32m140.6/140.6 KB\u001b[0m \u001b[31m20.6 MB/s\u001b[0m eta \u001b[36m0:00:00\u001b[0m\n",
            "\u001b[?25hCollecting smmap<6,>=3.0.1\n",
            "  Downloading smmap-5.0.0-py3-none-any.whl (24 kB)\n",
            "Building wheels for collected packages: pathtools\n",
            "  Building wheel for pathtools (setup.py) ... \u001b[?25l\u001b[?25hdone\n",
            "  Created wheel for pathtools: filename=pathtools-0.1.2-py3-none-any.whl size=8806 sha256=6abf3ddf54b96a2de121a0829fbcaf2d31642561b2b93ab9f8553e00e744e72a\n",
            "  Stored in directory: /root/.cache/pip/wheels/4c/8e/7e/72fbc243e1aeecae64a96875432e70d4e92f3d2d18123be004\n",
            "Successfully built pathtools\n",
            "Installing collected packages: pathtools, urllib3, smmap, setproctitle, docker-pycreds, sentry-sdk, gitdb, GitPython, wandb\n",
            "  Attempting uninstall: urllib3\n",
            "    Found existing installation: urllib3 1.24.3\n",
            "    Uninstalling urllib3-1.24.3:\n",
            "      Successfully uninstalled urllib3-1.24.3\n",
            "Successfully installed GitPython-3.1.31 docker-pycreds-0.4.0 gitdb-4.0.10 pathtools-0.1.2 sentry-sdk-1.15.0 setproctitle-1.3.2 smmap-5.0.0 urllib3-1.26.14 wandb-0.13.10\n"
          ]
        }
      ],
      "source": [
        "!pip install wandb"
      ]
    },
    {
      "cell_type": "code",
      "execution_count": 1,
      "metadata": {
        "colab": {
          "base_uri": "https://localhost:8080/"
        },
        "id": "gJuuNUJ7NOqH",
        "outputId": "0fadb830-7fc2-40fd-dfb6-870f1a88d05b"
      },
      "outputs": [
        {
          "name": "stdout",
          "output_type": "stream",
          "text": [
            "Mounted at /content/drive\n"
          ]
        }
      ],
      "source": [
        "from google.colab import drive\n",
        "# drive.flush_and_unmount()\n",
        "drive.mount('/content/drive')"
      ]
    },
    {
      "cell_type": "code",
      "execution_count": 2,
      "metadata": {
        "colab": {
          "base_uri": "https://localhost:8080/"
        },
        "id": "dlG-LN_eXS71",
        "outputId": "db03eca7-03a8-4b0b-ca48-dc23f180f6c7"
      },
      "outputs": [
        {
          "name": "stdout",
          "output_type": "stream",
          "text": [
            "/content/drive/MyDrive/Colab Notebooks\n",
            "Q1.ipynb  train_32x32.mat  train_32x32.zip  \u001b[0m\u001b[01;34mwandb\u001b[0m/\n"
          ]
        }
      ],
      "source": [
        "%cd drive/MyDrive/Colab\\ Notebooks\n",
        "%ls"
      ]
    },
    {
      "cell_type": "code",
      "execution_count": null,
      "metadata": {
        "colab": {
          "base_uri": "https://localhost:8080/",
          "height": 484
        },
        "id": "dUXR4s72MyiS",
        "outputId": "10a26a3e-d2cc-4df0-b8d7-59afa26e8480"
      },
      "outputs": [
        {
          "data": {
            "text/html": [
              "Finishing last run (ID:ab51ys6x) before initializing another..."
            ],
            "text/plain": [
              "<IPython.core.display.HTML object>"
            ]
          },
          "metadata": {},
          "output_type": "display_data"
        },
        {
          "data": {
            "text/html": [
              "Waiting for W&B process to finish... <strong style=\"color:green\">(success).</strong>"
            ],
            "text/plain": [
              "<IPython.core.display.HTML object>"
            ]
          },
          "metadata": {},
          "output_type": "display_data"
        },
        {
          "data": {
            "text/html": [
              "<style>\n",
              "    table.wandb td:nth-child(1) { padding: 0 10px; text-align: left ; width: auto;} td:nth-child(2) {text-align: left ; width: 100%}\n",
              "    .wandb-row { display: flex; flex-direction: row; flex-wrap: wrap; justify-content: flex-start; width: 100% }\n",
              "    .wandb-col { display: flex; flex-direction: column; flex-basis: 100%; flex: 1; padding: 10px; }\n",
              "    </style>\n",
              "<div class=\"wandb-row\"><div class=\"wandb-col\"><h3>Run history:</h3><br/><table class=\"wandb\"><tr><td>loss</td><td>█▄▃▄▄▃▃▂▂▃▂▃▂▂▃▂▂▂▂▃▂▃▂▂▁▁▂▂▂▂▁▂▁▂▁▂▁▁▁▂</td></tr></table><br/></div><div class=\"wandb-col\"><h3>Run summary:</h3><br/><table class=\"wandb\"><tr><td>loss</td><td>0.0072</td></tr></table><br/></div></div>"
            ],
            "text/plain": [
              "<IPython.core.display.HTML object>"
            ]
          },
          "metadata": {},
          "output_type": "display_data"
        },
        {
          "data": {
            "text/html": [
              " View run <strong style=\"color:#cdcd00\">breezy-jazz-1</strong> at: <a href='https://wandb.ai/sahil20326/resnet18/runs/ab51ys6x' target=\"_blank\">https://wandb.ai/sahil20326/resnet18/runs/ab51ys6x</a><br/>Synced 5 W&B file(s), 1 media file(s), 0 artifact file(s) and 0 other file(s)"
            ],
            "text/plain": [
              "<IPython.core.display.HTML object>"
            ]
          },
          "metadata": {},
          "output_type": "display_data"
        },
        {
          "data": {
            "text/html": [
              "Find logs at: <code>./wandb/run-20230221_115700-ab51ys6x/logs</code>"
            ],
            "text/plain": [
              "<IPython.core.display.HTML object>"
            ]
          },
          "metadata": {},
          "output_type": "display_data"
        },
        {
          "data": {
            "text/html": [
              "Successfully finished last run (ID:ab51ys6x). Initializing new run:<br/>"
            ],
            "text/plain": [
              "<IPython.core.display.HTML object>"
            ]
          },
          "metadata": {},
          "output_type": "display_data"
        },
        {
          "data": {
            "text/html": [
              "Tracking run with wandb version 0.13.10"
            ],
            "text/plain": [
              "<IPython.core.display.HTML object>"
            ]
          },
          "metadata": {},
          "output_type": "display_data"
        },
        {
          "data": {
            "text/html": [
              "Run data is saved locally in <code>/content/drive/MyDrive/Colab Notebooks/wandb/run-20230221_124917-3ltwl3ak</code>"
            ],
            "text/plain": [
              "<IPython.core.display.HTML object>"
            ]
          },
          "metadata": {},
          "output_type": "display_data"
        },
        {
          "data": {
            "text/html": [
              "Syncing run <strong><a href='https://wandb.ai/sahil20326/CV_assignment1_Q1/runs/3ltwl3ak' target=\"_blank\">vibrant-snowball-3</a></strong> to <a href='https://wandb.ai/sahil20326/CV_assignment1_Q1' target=\"_blank\">Weights & Biases</a> (<a href='https://wandb.me/run' target=\"_blank\">docs</a>)<br/>"
            ],
            "text/plain": [
              "<IPython.core.display.HTML object>"
            ]
          },
          "metadata": {},
          "output_type": "display_data"
        },
        {
          "data": {
            "text/html": [
              " View project at <a href='https://wandb.ai/sahil20326/CV_assignment1_Q1' target=\"_blank\">https://wandb.ai/sahil20326/CV_assignment1_Q1</a>"
            ],
            "text/plain": [
              "<IPython.core.display.HTML object>"
            ]
          },
          "metadata": {},
          "output_type": "display_data"
        },
        {
          "data": {
            "text/html": [
              " View run at <a href='https://wandb.ai/sahil20326/CV_assignment1_Q1/runs/3ltwl3ak' target=\"_blank\">https://wandb.ai/sahil20326/CV_assignment1_Q1/runs/3ltwl3ak</a>"
            ],
            "text/plain": [
              "<IPython.core.display.HTML object>"
            ]
          },
          "metadata": {},
          "output_type": "display_data"
        },
        {
          "data": {
            "text/html": [
              "<button onClick=\"this.nextSibling.style.display='block';this.style.display='none';\">Display W&B run</button><iframe src='https://wandb.ai/sahil20326/CV_assignment1_Q1/runs/3ltwl3ak?jupyter=true' style='border:none;width:100%;height:420px;display:none;'></iframe>"
            ],
            "text/plain": [
              "<wandb.sdk.wandb_run.Run at 0x7ff874292fa0>"
            ]
          },
          "execution_count": 23,
          "metadata": {},
          "output_type": "execute_result"
        }
      ],
      "source": [
        "wandb.init(project=\"CV_assignment1_Q1\")"
      ]
    },
    {
      "cell_type": "code",
      "execution_count": null,
      "metadata": {
        "colab": {
          "base_uri": "https://localhost:8080/"
        },
        "id": "1RDBKhHIsVH9",
        "outputId": "c0b6aef2-06e7-40cc-e7b7-97e6ffc88585"
      },
      "outputs": [
        {
          "name": "stdout",
          "output_type": "stream",
          "text": [
            "Archive:  train_32x32.zip\n",
            "  inflating: train_32x32.mat         \n"
          ]
        }
      ],
      "source": [
        "!unzip train_32x32.zip"
      ]
    },
    {
      "cell_type": "code",
      "execution_count": 5,
      "metadata": {
        "id": "7xljfOAWMyiS"
      },
      "outputs": [],
      "source": [
        "mat = scipy.io.loadmat('train_32x32.mat')"
      ]
    },
    {
      "cell_type": "code",
      "execution_count": null,
      "metadata": {
        "id": "2Avcw9m3MyiS",
        "outputId": "c80d7634-6da7-4cde-fd7a-ad518a35c9ef"
      },
      "outputs": [
        {
          "name": "stdout",
          "output_type": "stream",
          "text": [
            "<class 'dict'>\n",
            "5\n",
            "dict_keys(['__header__', '__version__', '__globals__', 'X', 'y'])\n",
            "<class 'numpy.ndarray'>\n",
            "(32, 32, 3, 73257)\n",
            "(73257, 1)\n",
            "b'MATLAB 5.0 MAT-file, Platform: GLNXA64, Created on: Mon Dec  5 21:09:26 2011'\n",
            "1.0\n",
            "[]\n"
          ]
        }
      ],
      "source": [
        "print(type(mat))\n",
        "# print(mat)\n",
        "print(len(mat))\n",
        "print(mat.keys())\n",
        "# print(mat.items())\n",
        "print(type(mat['X']))\n",
        "print(mat['X'].shape)\n",
        "print(mat['y'].shape)\n",
        "print(mat['__header__'])\n",
        "print(mat['__version__'])\n",
        "print(mat['__globals__'])\n",
        "# print(mat.items())"
      ]
    },
    {
      "cell_type": "code",
      "execution_count": null,
      "metadata": {
        "id": "8j-rDWksMyiT",
        "outputId": "21798470-3897-4c8e-baa1-c0bf23fdde7f"
      },
      "outputs": [
        {
          "name": "stdout",
          "output_type": "stream",
          "text": [
            "<class 'numpy.ndarray'>\n",
            "(32, 32, 3, 73257)\n",
            "<class 'numpy.ndarray'>\n",
            "(73257, 1)\n",
            "(73257, 32, 32, 3)\n",
            "Min:  0\n",
            "Max:  255\n"
          ]
        },
        {
          "data": {
            "image/png": "[encoded data removed]",
            "text/plain": [
              "<Figure size 640x480 with 1 Axes>"
            ]
          },
          "metadata": {},
          "output_type": "display_data"
        }
      ],
      "source": [
        "X = mat['X']\n",
        "y = mat['y']\n",
        "print(type(X))\n",
        "print(X.shape)\n",
        "print(type(y))\n",
        "print(y.shape)\n",
        "# print(type(y[0][0]))\n",
        "X=np.moveaxis(X, -1, 0)\n",
        "print(X.shape)\n",
        "plt.imshow(X[0])\n",
        "print(\"Min: \", np.min(X))\n",
        "print(\"Max: \", np.max(X))\n"
      ]
    },
    {
      "cell_type": "code",
      "execution_count": null,
      "metadata": {
        "id": "J61Bn4KCMyiU"
      },
      "outputs": [],
      "source": [
        "class custom(Dataset):\n",
        "    def __init__(self, data, transform=None):\n",
        "        self.images = data['X']\n",
        "        self.labels = data['y']\n",
        "        self.transform = transform\n",
        "    def __len__(self):\n",
        "        return self.images.shape[3]\n",
        "\n",
        "    def __getitem__(self, idx):\n",
        "        image=self.images[:,:,:,idx]\n",
        "        label = self.labels[idx]\n",
        "        if label[0] == 10:\n",
        "            label = 0\n",
        "        else:\n",
        "            label = label[0]\n",
        "        if self.transform:\n",
        "            image = self.transform(image)\n",
        "        return image, label"
      ]
    },
    {
      "cell_type": "code",
      "execution_count": null,
      "metadata": {
        "colab": {
          "base_uri": "https://localhost:8080/"
        },
        "id": "GxZzbj2_MyiU",
        "outputId": "6ea66bd8-3f5c-4918-a94a-0501bb0bf530"
      },
      "outputs": [
        {
          "name": "stdout",
          "output_type": "stream",
          "text": [
            "73257\n",
            "<class '__main__.custom'>\n",
            "51279\n",
            "14652\n",
            "7326\n",
            "<class 'torch.utils.data.dataset.Subset'>\n",
            "<class 'tuple'>\n",
            "<class 'torch.Tensor'>\n",
            "<class 'numpy.uint8'>\n",
            "2\n"
          ]
        }
      ],
      "source": [
        "from torch.utils.data import random_split\n",
        "data=custom(mat,transform=transforms.Compose([transforms.ToTensor()]))\n",
        "print(len(data))\n",
        "print(type(data))\n",
        "train_data, val_data, test_data = random_split(data, [int(.7*len(data)), int(.9*len(data))-int(.7*len(data)), len(data)-int(.9*len(data))], generator=torch.Generator().manual_seed(42))\n",
        "print(len(train_data))\n",
        "print(len(val_data))\n",
        "print(len(test_data))\n",
        "print(type(train_data))\n",
        "print(type(train_data[0]))\n",
        "print(type(train_data[0][0]))\n",
        "print(type(train_data[0][1]))\n",
        "print(train_data[0][1])"
      ]
    },
    {
      "cell_type": "code",
      "execution_count": null,
      "metadata": {
        "id": "cipNYX18MyiU",
        "outputId": "6d05ec01-47d2-49b1-995d-4d7e20fdad7e"
      },
      "outputs": [
        {
          "name": "stdout",
          "output_type": "stream",
          "text": [
            "<class 'numpy.ndarray'>\n"
          ]
        }
      ],
      "source": [
        "print(type(train_data.dataset.images))"
      ]
    },
    {
      "cell_type": "code",
      "execution_count": null,
      "metadata": {
        "colab": {
          "base_uri": "https://localhost:8080/"
        },
        "id": "gUbjGaJaMyiU",
        "outputId": "372a8c23-4554-47ae-fccf-b7dcd9891fda"
      },
      "outputs": [
        {
          "name": "stdout",
          "output_type": "stream",
          "text": [
            "802\n",
            "<class 'torch.utils.data.dataset.Subset'>\n"
          ]
        }
      ],
      "source": [
        "train_loader = DataLoader(train_data, batch_size=64, shuffle=True)\n",
        "val_loader = DataLoader(val_data, batch_size=64, shuffle=True)\n",
        "test_loader = DataLoader(test_data, batch_size=64, shuffle=True)\n",
        "print(len(train_loader))\n",
        "print(type(train_loader.dataset))"
      ]
    },
    {
      "cell_type": "code",
      "execution_count": null,
      "metadata": {
        "id": "m74w03jhMyiV",
        "outputId": "1c3c2c2a-bec7-4ab7-88e9-88ce8e39191a"
      },
      "outputs": [
        {
          "data": {
            "image/png": "[encoded data removed]",
            "text/plain": [
              "<Figure size 640x480 with 1 Axes>"
            ]
          },
          "metadata": {},
          "output_type": "display_data"
        },
        {
          "data": {
            "image/png": "[encoded data removed]",
            "text/plain": [
              "<Figure size 640x480 with 1 Axes>"
            ]
          },
          "metadata": {},
          "output_type": "display_data"
        },
        {
          "data": {
            "image/png": "[encoded data removed]",
            "text/plain": [
              "<Figure size 640x480 with 1 Axes>"
            ]
          },
          "metadata": {},
          "output_type": "display_data"
        }
      ],
      "source": [
        "def plot_bar_graph(loader,title):\n",
        "    dict={}\n",
        "    l=loader.dataset[:,1]\n",
        "    l=l.astype(int)\n",
        "    for i in l:\n",
        "        if i in dict:\n",
        "            dict[i]+=1\n",
        "        else:\n",
        "            dict[i]=1\n",
        "    ax=sns.barplot(x=list(dict.keys()), y=list(dict.values()))\n",
        "    ax.set(xlabel='Labels', ylabel='Count')\n",
        "    ax.set_title(title)\n",
        "    ax.bar_label(ax.containers[0])\n",
        "    plt.show()\n",
        "\n",
        "    \n",
        "plot_bar_graph(train_loader,\"Training Label Distribution\")\n",
        "plot_bar_graph(val_loader,\"Validation Label Distribution\")\n",
        "plot_bar_graph(test_loader,\"Test Label Distribution\")"
      ]
    },
    {
      "cell_type": "markdown",
      "metadata": {
        "id": "CyKluhMTMyiV"
      },
      "source": [
        "# Q1.2"
      ]
    },
    {
      "cell_type": "code",
      "execution_count": null,
      "metadata": {
        "id": "Db4eleQHMyiW"
      },
      "outputs": [],
      "source": [
        "class cnn(nn.Module):\n",
        "    def __init__(self):\n",
        "        super(cnn, self).__init__()\n",
        "        self.con1 = nn.Conv2d(3, 32,kernel_size=3, stride=1, padding=1)\n",
        "        self.con2 = nn.Conv2d(32, 64,kernel_size=3, stride=1, padding=1)\n",
        "        self.fc=nn.Linear(32*32*64, 10)\n",
        "    def forward(self,x):\n",
        "        return self.fc(torch.flatten(F.relu(self.con2(F.relu(self.con1(x)))),1))"
      ]
    },
    {
      "cell_type": "code",
      "execution_count": null,
      "metadata": {
        "colab": {
          "base_uri": "https://localhost:8080/"
        },
        "id": "qWYirNgxMyiX",
        "outputId": "f6622cb8-5d11-41ba-a812-ca4fd3e38a40"
      },
      "outputs": [
        {
          "name": "stdout",
          "output_type": "stream",
          "text": [
            "cnn(\n",
            "  (con1): Conv2d(3, 32, kernel_size=(3, 3), stride=(1, 1), padding=(1, 1))\n",
            "  (con2): Conv2d(32, 64, kernel_size=(3, 3), stride=(1, 1), padding=(1, 1))\n",
            "  (fc): Linear(in_features=65536, out_features=10, bias=True)\n",
            ")\n"
          ]
        }
      ],
      "source": [
        "model=cnn()\n",
        "print(model)\n",
        "model.to(\"cuda\")\n",
        "optimizer=optim.Adam(model.parameters(),lr=0.001)\n",
        "criterion=nn.CrossEntropyLoss()"
      ]
    },
    {
      "cell_type": "code",
      "execution_count": null,
      "metadata": {
        "colab": {
          "base_uri": "https://localhost:8080/"
        },
        "id": "Qg4EEczIMyiX",
        "outputId": "f6f57f6f-7e19-4bab-d770-cb8efd12820a"
      },
      "outputs": [
        {
          "name": "stdout",
          "output_type": "stream",
          "text": [
            "Epoch:  0  Loss:  2.223730884882577\n",
            "Epoch:  1  Loss:  2.0041543050597137\n",
            "Epoch:  2  Loss:  1.2196324353949388\n",
            "Epoch:  3  Loss:  0.8706577594515094\n",
            "Epoch:  5  Loss:  0.68386135653516\n",
            "Epoch:  6  Loss:  0.6395862305773761\n",
            "Epoch:  7  Loss:  0.6134442677373007\n",
            "Epoch:  8  Loss:  0.5971916733574392\n",
            "Epoch:  9  Loss:  0.5773981164518437\n",
            "Epoch:  10  Loss:  0.5605208190190525\n",
            "Epoch:  11  Loss:  0.547450689566403\n",
            "Epoch:  12  Loss:  0.5345426653500209\n",
            "Epoch:  13  Loss:  0.5217051561039285\n",
            "Epoch:  14  Loss:  0.5101693595139463\n",
            "Epoch:  15  Loss:  0.4989051696962846\n",
            "Epoch:  16  Loss:  0.48996303613272096\n",
            "Epoch:  17  Loss:  0.4814171576106043\n",
            "Epoch:  18  Loss:  0.4706470612575883\n",
            "Epoch:  19  Loss:  0.4626735669381898\n",
            "Epoch:  20  Loss:  0.4527256051798414\n",
            "Epoch:  21  Loss:  0.44521105140819217\n",
            "Epoch:  22  Loss:  0.4363443310235504\n",
            "Epoch:  23  Loss:  0.428937703371048\n",
            "Epoch:  24  Loss:  0.41999247031950593\n",
            "Epoch:  25  Loss:  0.41197028384541634\n",
            "Epoch:  26  Loss:  0.40569621335687184\n",
            "Epoch:  27  Loss:  0.3962647310107426\n",
            "Epoch:  28  Loss:  0.39091962295354454\n",
            "Epoch:  29  Loss:  0.38212295672728536\n",
            "Epoch:  30  Loss:  0.37437014108955713\n",
            "Epoch:  31  Loss:  0.36924910723717136\n",
            "Epoch:  32  Loss:  0.36250510329654684\n",
            "Epoch:  33  Loss:  0.35482114009057497\n",
            "Epoch:  34  Loss:  0.34761740175305755\n",
            "Epoch:  35  Loss:  0.34247695620257657\n",
            "Epoch:  36  Loss:  0.33492145889863706\n",
            "Epoch:  37  Loss:  0.32881460065704926\n",
            "Epoch:  38  Loss:  0.32294202704642183\n",
            "Epoch:  39  Loss:  0.3163109078000014\n"
          ]
        }
      ],
      "source": [
        "wandb.watch(model, criterion, log=\"all\", log_freq=100)\n",
        "for epoch in range(40):\n",
        "    training_loss=0\n",
        "    for data in iter(train_loader):\n",
        "        x,y=data\n",
        "        x=x.to(\"cuda\")\n",
        "        y=y.to(\"cuda\")\n",
        "        optimizer.zero_grad()\n",
        "        output=model(x)\n",
        "        loss=criterion(output,y)\n",
        "        loss.backward()\n",
        "        optimizer.step()\n",
        "        wandb.log({\"loss\":loss.item()})\n",
        "        training_loss+=loss.item()\n",
        "    print(\"Epoch: \",epoch,\" Loss: \",training_loss/len(train_loader))"
      ]
    },
    {
      "cell_type": "code",
      "execution_count": 1,
      "metadata": {
        "colab": {
          "base_uri": "https://localhost:8080/"
        },
        "id": "8YmKiVjxMyiX",
        "outputId": "e08acde9-7805-4990-debf-4304a7b0ad70"
      },
      "outputs": [
        {
          "name": "stdout",
          "output_type": "stream",
          "text": [
            "Accuracy :  0.8532623532623532\n",
            "F1 Score :  0.7885640433632752\n",
            "Confusion Matrix :\n",
            "  [[ 43  78  68  65  50  45  44  37  28  22]\n",
            " [ 81 278 203 175 145 123 126 112  79  72]\n",
            " [ 59 218 145 141 120  93  82  78  49  73]\n",
            " [ 56 185 109  92  89  83  68  72  48  54]\n",
            " [ 45 161 117  72  76  73  61  76  36  37]\n",
            " [ 52 139  85 101  65  56  51  67  31  35]\n",
            " [ 36 117  80  73  51  49  43  47  31  32]\n",
            " [ 33 114  81  59  65  69  49  34  24  36]\n",
            " [ 43  86  67  68  51  38  55  34  38  32]\n",
            " [ 25  94  77  53  46  45  33  36  32  26]]\n"
          ]
        }
      ],
      "source": [
        "from sklearn.metrics import confusion_matrix\n",
        "from sklearn.metrics import classification_report\n",
        "from sklearn.metrics import f1_score\n",
        "from sklearn.metrics import accuracy_score\n",
        "from sklearn.metrics import precision_score\n",
        "from sklearn.metrics import recall_score\n",
        "model.eval()\n",
        "correct=0\n",
        "total=0\n",
        "predicted_list=[]\n",
        "with torch.no_grad():\n",
        "    for data in iter(test_loader):\n",
        "        x,y=data\n",
        "        x=x.to(\"cuda\")\n",
        "        y=y.to(\"cuda\")\n",
        "        output=model(x)\n",
        "        _,predicted=torch.max(output.data,1)\n",
        "        predicted_list.extend(predicted)\n",
        "        total+=y.size(0)\n",
        "        correct+=(predicted==y).sum().item()\n",
        "print(\"Accuracy : \",correct/total)\n",
        "test_lab=[]\n",
        "for img,lab in iter(test_loader):\n",
        "    test_lab.extend(lab)\n",
        "pred_lab=[]\n",
        "for i in predicted_list:\n",
        "    pred_lab.extend(i)\n",
        "print(\"F1 Score : \",f1_score(test_lab,pred_lab,average='macro'))\n",
        "c=confusion_matrix(test_lab,pred_lab)\n",
        "print(\"Confusion Matrix :\\n \",c)\n",
        "wandb.log({\"Confusion Matrix\":wandb.plot.confusion_matrix(probs=None, y_true=test_lab, preds=pred_lab, class_names=None)})"
      ]
    },
    {
      "cell_type": "markdown",
      "metadata": {
        "id": "iTl4Hxc9MyiX"
      },
      "source": [
        "# Q1.3"
      ]
    },
    {
      "cell_type": "code",
      "execution_count": null,
      "metadata": {
        "colab": {
          "base_uri": "https://localhost:8080/"
        },
        "id": "52G3qpCTMyiY",
        "outputId": "3f7a730d-40eb-42f7-86a1-77cdb4e44b67"
      },
      "outputs": [
        {
          "name": "stderr",
          "output_type": "stream",
          "text": [
            "/usr/local/lib/python3.8/dist-packages/torchvision/models/_utils.py:208: UserWarning: The parameter 'pretrained' is deprecated since 0.13 and may be removed in the future, please use 'weights' instead.\n",
            "  warnings.warn(\n",
            "/usr/local/lib/python3.8/dist-packages/torchvision/models/_utils.py:223: UserWarning: Arguments other than a weight enum or `None` for 'weights' are deprecated since 0.13 and may be removed in the future. The current behavior is equivalent to passing `weights=ResNet18_Weights.IMAGENET1K_V1`. You can also use `weights=ResNet18_Weights.DEFAULT` to get the most up-to-date weights.\n",
            "  warnings.warn(msg)\n"
          ]
        }
      ],
      "source": [
        "model2=torchvision.models.resnet18(pretrained=True)\n",
        "model2.fc=nn.Linear(model2.fc.in_features,10)\n",
        "model2.to(\"cuda\")\n",
        "optimizer2=optim.Adam(model2.parameters(),lr=0.001)\n",
        "criterion2=nn.CrossEntropyLoss()"
      ]
    },
    {
      "cell_type": "code",
      "execution_count": null,
      "metadata": {
        "colab": {
          "base_uri": "https://localhost:8080/",
          "height": 480
        },
        "id": "OUf8GAdXMyiY",
        "outputId": "99fd0f5d-c913-430d-e149-1c8877128099"
      },
      "outputs": [
        {
          "data": {
            "text/html": [
              "Finishing last run (ID:3ltwl3ak) before initializing another..."
            ],
            "text/plain": [
              "<IPython.core.display.HTML object>"
            ]
          },
          "metadata": {},
          "output_type": "display_data"
        },
        {
          "data": {
            "text/html": [
              "Waiting for W&B process to finish... <strong style=\"color:green\">(success).</strong>"
            ],
            "text/plain": [
              "<IPython.core.display.HTML object>"
            ]
          },
          "metadata": {},
          "output_type": "display_data"
        },
        {
          "data": {
            "text/html": [
              "<style>\n",
              "    table.wandb td:nth-child(1) { padding: 0 10px; text-align: left ; width: auto;} td:nth-child(2) {text-align: left ; width: 100%}\n",
              "    .wandb-row { display: flex; flex-direction: row; flex-wrap: wrap; justify-content: flex-start; width: 100% }\n",
              "    .wandb-col { display: flex; flex-direction: column; flex-basis: 100%; flex: 1; padding: 10px; }\n",
              "    </style>\n",
              "<div class=\"wandb-row\"><div class=\"wandb-col\"><h3>Run history:</h3><br/><table class=\"wandb\"><tr><td>loss</td><td>▃▃▂▃▂▂▂█▅▃▄▃▃▃▃▂▂▂▂▁▂▂▂▂▂▂▁▂▁▂▂▂▁▂▂▁▁▂▁▁</td></tr></table><br/></div><div class=\"wandb-col\"><h3>Run summary:</h3><br/><table class=\"wandb\"><tr><td>loss</td><td>0.23901</td></tr></table><br/></div></div>"
            ],
            "text/plain": [
              "<IPython.core.display.HTML object>"
            ]
          },
          "metadata": {},
          "output_type": "display_data"
        },
        {
          "data": {
            "text/html": [
              " View run <strong style=\"color:#cdcd00\">vibrant-snowball-3</strong> at: <a href='https://wandb.ai/sahil20326/CV_assignment1_Q1/runs/3ltwl3ak' target=\"_blank\">https://wandb.ai/sahil20326/CV_assignment1_Q1/runs/3ltwl3ak</a><br/>Synced 5 W&B file(s), 1 media file(s), 0 artifact file(s) and 0 other file(s)"
            ],
            "text/plain": [
              "<IPython.core.display.HTML object>"
            ]
          },
          "metadata": {},
          "output_type": "display_data"
        },
        {
          "data": {
            "text/html": [
              "Find logs at: <code>./wandb/run-20230221_124917-3ltwl3ak/logs</code>"
            ],
            "text/plain": [
              "<IPython.core.display.HTML object>"
            ]
          },
          "metadata": {},
          "output_type": "display_data"
        },
        {
          "data": {
            "text/html": [
              "Successfully finished last run (ID:3ltwl3ak). Initializing new run:<br/>"
            ],
            "text/plain": [
              "<IPython.core.display.HTML object>"
            ]
          },
          "metadata": {},
          "output_type": "display_data"
        },
        {
          "data": {
            "text/html": [
              "Tracking run with wandb version 0.13.10"
            ],
            "text/plain": [
              "<IPython.core.display.HTML object>"
            ]
          },
          "metadata": {},
          "output_type": "display_data"
        },
        {
          "data": {
            "text/html": [
              "Run data is saved locally in <code>/content/drive/MyDrive/Colab Notebooks/wandb/run-20230221_130157-gfe6cb29</code>"
            ],
            "text/plain": [
              "<IPython.core.display.HTML object>"
            ]
          },
          "metadata": {},
          "output_type": "display_data"
        },
        {
          "data": {
            "text/html": [
              "Syncing run <strong><a href='https://wandb.ai/sahil20326/resnet18/runs/gfe6cb29' target=\"_blank\">charmed-sky-2</a></strong> to <a href='https://wandb.ai/sahil20326/resnet18' target=\"_blank\">Weights & Biases</a> (<a href='https://wandb.me/run' target=\"_blank\">docs</a>)<br/>"
            ],
            "text/plain": [
              "<IPython.core.display.HTML object>"
            ]
          },
          "metadata": {},
          "output_type": "display_data"
        },
        {
          "data": {
            "text/html": [
              " View project at <a href='https://wandb.ai/sahil20326/resnet18' target=\"_blank\">https://wandb.ai/sahil20326/resnet18</a>"
            ],
            "text/plain": [
              "<IPython.core.display.HTML object>"
            ]
          },
          "metadata": {},
          "output_type": "display_data"
        },
        {
          "data": {
            "text/html": [
              " View run at <a href='https://wandb.ai/sahil20326/resnet18/runs/gfe6cb29' target=\"_blank\">https://wandb.ai/sahil20326/resnet18/runs/gfe6cb29</a>"
            ],
            "text/plain": [
              "<IPython.core.display.HTML object>"
            ]
          },
          "metadata": {},
          "output_type": "display_data"
        },
        {
          "data": {
            "text/plain": [
              "[]"
            ]
          },
          "execution_count": 32,
          "metadata": {},
          "output_type": "execute_result"
        }
      ],
      "source": [
        "wandb.init(project=\"resnet18\")\n",
        "wandb.watch(model2, criterion2, log=\"all\", log_freq=100)"
      ]
    },
    {
      "cell_type": "code",
      "execution_count": null,
      "metadata": {
        "colab": {
          "base_uri": "https://localhost:8080/"
        },
        "id": "uDguRumgMyiY",
        "outputId": "2ce57904-c387-4d4f-c3f1-e9d50ab5076d"
      },
      "outputs": [
        {
          "name": "stdout",
          "output_type": "stream",
          "text": [
            "Epoch:  0  Loss:  0.8976613628745377\n",
            "Epoch:  1  Loss:  0.3955819569621003\n",
            "Epoch:  2  Loss:  0.2944721160897813\n",
            "Epoch:  3  Loss:  0.23382415772041776\n",
            "Epoch:  4  Loss:  0.19049941456442387\n",
            "Epoch:  5  Loss:  0.15590826469122843\n",
            "Epoch:  6  Loss:  0.12686529748857095\n",
            "Epoch:  7  Loss:  0.11139837767640849\n",
            "Epoch:  8  Loss:  0.09254216529113099\n",
            "Epoch:  9  Loss:  0.0749725254294358\n",
            "Epoch:  10  Loss:  0.06314013270716975\n",
            "Epoch:  11  Loss:  0.054518551207170765\n",
            "Epoch:  12  Loss:  0.04947874439500523\n",
            "Epoch:  13  Loss:  0.04115947010409275\n",
            "Epoch:  14  Loss:  0.03659638336788807\n",
            "Epoch:  15  Loss:  0.03234873846332378\n",
            "Epoch:  16  Loss:  0.030606816215844164\n",
            "Epoch:  17  Loss:  0.02897314853730212\n",
            "Epoch:  18  Loss:  0.03214405104351007\n",
            "Epoch:  19  Loss:  0.020281399535831003\n",
            "Epoch:  20  Loss:  0.02577418491910293\n",
            "Epoch:  21  Loss:  0.020879494879930977\n",
            "Epoch:  22  Loss:  0.016533842519407004\n",
            "Epoch:  23  Loss:  0.015213110182076365\n",
            "Epoch:  24  Loss:  0.01271740530530151\n",
            "Epoch:  25  Loss:  0.011156602803954623\n",
            "Epoch:  26  Loss:  0.009008767614658951\n",
            "Epoch:  27  Loss:  0.007655284388367948\n",
            "Epoch:  28  Loss:  0.007375530721888627\n",
            "Epoch:  29  Loss:  0.00770081062321078\n",
            "Epoch:  30  Loss:  0.008044710180181035\n",
            "Epoch:  31  Loss:  0.008790599839116488\n",
            "Epoch:  32  Loss:  0.007462119307278489\n",
            "Epoch:  33  Loss:  0.00913835721791686\n",
            "Epoch:  34  Loss:  0.01021281892037377\n",
            "Epoch:  35  Loss:  0.00842513694428851\n",
            "Epoch:  36  Loss:  0.009284549265221879\n",
            "Epoch:  37  Loss:  0.008137257347516878\n",
            "Epoch:  38  Loss:  0.007697554340532286\n",
            "Epoch:  39  Loss:  0.010210868845916182\n"
          ]
        }
      ],
      "source": [
        "for epoch in range(40):\n",
        "    training_loss=0\n",
        "    for data in iter(train_loader):\n",
        "        x,y=data\n",
        "        x=x.to(\"cuda\")\n",
        "        y=y.to(\"cuda\")\n",
        "        optimizer2.zero_grad()\n",
        "        output=model2(x)\n",
        "        loss=criterion2(output,y)\n",
        "        loss.backward()\n",
        "        optimizer2.step()\n",
        "        wandb.log({\"loss\":loss.item()})\n",
        "        training_loss+=loss.item()\n",
        "    print(\"Epoch: \",epoch,\" Loss: \",training_loss/len(train_loader))"
      ]
    },
    {
      "cell_type": "code",
      "execution_count": 2,
      "metadata": {
        "colab": {
          "base_uri": "https://localhost:8080/"
        },
        "id": "JPKcTbhKMyiY",
        "outputId": "1c6f4c96-f546-492a-dec9-0004509ab973"
      },
      "outputs": [
        {
          "name": "stdout",
          "output_type": "stream",
          "text": [
            "Accuracy :  0.9256074256074256\n",
            "F1 Score :  0.80298252832351688\n",
            "Confusion Matrix :\n",
            "  [[ 30 110  68  52  44  53  25  25  40  33]\n",
            " [ 95 272 223 153 166 112 116  92  83  82]\n",
            " [ 73 199 144 136 103  97  81  84  78  63]\n",
            " [ 50 160 115 116  88  81  67  67  52  60]\n",
            " [ 57 150 121  78  74  67  62  64  46  35]\n",
            " [ 46 128  99  75  84  63  43  50  48  46]\n",
            " [ 40  96  78  75  54  56  42  51  26  41]\n",
            " [ 30 107  72  82  56  59  40  40  41  37]\n",
            " [ 27  96  76  75  51  44  32  37  40  34]\n",
            " [ 32  99  63  50  47  46  34  35  33  28]]\n"
          ]
        }
      ],
      "source": [
        "model2.eval()\n",
        "correct=0\n",
        "total=0\n",
        "predicted_list=[]\n",
        "with torch.no_grad():\n",
        "    for data in iter(test_loader):\n",
        "        x,y=data\n",
        "        x=x.to(\"cuda\")\n",
        "        y=y.to(\"cuda\")\n",
        "        output=model2(x)\n",
        "        _,predicted=torch.max(output.data,1)\n",
        "        predicted_list.extend(predicted)\n",
        "        total+=y.size(0)\n",
        "        correct+=(predicted==y).sum().item()\n",
        "print(\"Accuracy : \",correct/total)\n",
        "pred_lab=[]\n",
        "for i in predicted_list:\n",
        "    pred_lab.extend(i.item())\n",
        "print(\"F1 Score : \",f1_score(test_lab,pred_lab,average='macro'))\n",
        "c=confusion_matrix(test_lab,pred_lab)\n",
        "print(\"Confusion Matrix :\\n \",c)\n",
        "wandb.log({\"confusion matrix\":wandb.plot.confusion_matrix(probs=None, y_true=test_lab, preds=pred_lab, class_names=None)})"
      ]
    },
    {
      "cell_type": "code",
      "execution_count": null,
      "metadata": {
        "colab": {
          "base_uri": "https://localhost:8080/",
          "height": 1000
        },
        "id": "9wgcL1VOMyiZ",
        "outputId": "ffd43ba3-7681-481a-c270-9ad73a429b45"
      },
      "outputs": [
        {
          "name": "stderr",
          "output_type": "stream",
          "text": [
            "/usr/local/lib/python3.8/dist-packages/sklearn/manifold/_t_sne.py:780: FutureWarning: The default initialization in TSNE will change from 'random' to 'pca' in 1.2.\n",
            "  warnings.warn(\n",
            "/usr/local/lib/python3.8/dist-packages/sklearn/manifold/_t_sne.py:790: FutureWarning: The default learning rate in TSNE will change from 200.0 to 'auto' in 1.2.\n",
            "  warnings.warn(\n",
            "/usr/local/lib/python3.8/dist-packages/sklearn/manifold/_t_sne.py:780: FutureWarning: The default initialization in TSNE will change from 'random' to 'pca' in 1.2.\n",
            "  warnings.warn(\n",
            "/usr/local/lib/python3.8/dist-packages/sklearn/manifold/_t_sne.py:790: FutureWarning: The default learning rate in TSNE will change from 200.0 to 'auto' in 1.2.\n",
            "  warnings.warn(\n"
          ]
        },
        {
          "data": {
            "image/png": "[encoded data removed]",
            "text/plain": [
              "<Figure size 432x288 with 1 Axes>"
            ]
          },
          "metadata": {},
          "output_type": "display_data"
        },
        {
          "data": {
            "image/png": "[encoded data removed]",
            "text/plain": [
              "<Figure size 432x288 with 1 Axes>"
            ]
          },
          "metadata": {},
          "output_type": "display_data"
        },
        {
          "name": "stderr",
          "output_type": "stream",
          "text": [
            "/usr/local/lib/python3.8/dist-packages/sklearn/manifold/_t_sne.py:780: FutureWarning: The default initialization in TSNE will change from 'random' to 'pca' in 1.2.\n",
            "  warnings.warn(\n",
            "/usr/local/lib/python3.8/dist-packages/sklearn/manifold/_t_sne.py:790: FutureWarning: The default learning rate in TSNE will change from 200.0 to 'auto' in 1.2.\n",
            "  warnings.warn(\n",
            "/usr/local/lib/python3.8/dist-packages/matplotlib/collections.py:885: RuntimeWarning: invalid value encountered in sqrt\n",
            "  scale = np.sqrt(self._sizes) * dpi / 72.0 * self._factor\n"
          ]
        },
        {
          "data": {
            "image/png": "[encoded data removed]",
            "text/plain": [
              "<Figure size 432x288 with 1 Axes>"
            ]
          },
          "metadata": {},
          "output_type": "display_data"
        }
      ],
      "source": [
        "from sklearn.manifold import TSNE\n",
        "model2.to(\"cpu\")\n",
        "train_features=[]\n",
        "train_labels=[]\n",
        "val_features=[]\n",
        "val_labels=[]\n",
        "model2.eval()\n",
        "for i in model.parameters():\n",
        "    i.requires_grad=False\n",
        "with torch.no_grad():\n",
        "    for i in range(len(train_data)):\n",
        "        x,y=train_data[i]\n",
        "        x=x.unsqueeze(0)\n",
        "        output=model2(x).squeeze().cpu().numpy()\n",
        "        train_features.append(output)\n",
        "        train_labels.append(y)\n",
        "    for i in range(len(val_data)):\n",
        "        x,y=val_data[i]\n",
        "        x=x.unsqueeze(0)\n",
        "        output=model2(x).squeeze().cpu().numpy()\n",
        "        val_features.append(output)\n",
        "        val_labels.append(y)\n",
        "train_features=np.array(train_features)\n",
        "train_labels=np.array(train_labels)\n",
        "val_features=np.array(val_features)\n",
        "val_labels=np.array(val_labels)\n",
        "train_features = (train_features-np.mean(train_features,axis=0))/np.std(train_features,axis=0)\n",
        "val_features = (val_features-np.mean(val_features,axis=0))/np.std(val_features,axis=0)\n",
        "tsne_2=TSNE()\n",
        "train_features_2d=tsne_2.fit_transform(train_features)\n",
        "val_features_2d=tsne_2.fit_transform(val_features)\n",
        "plt.scatter(train_features_2d[:,0],train_features_2d[:,1],c=train_labels)\n",
        "plt.show()\n",
        "plt.scatter(val_features_2d[:,0],val_features_2d[:,1],c=val_labels)\n",
        "plt.show()\n",
        "tsne_3=TSNE(n_components=3)\n",
        "val_features_3d=tsne_3.fit_transform(val_features)\n",
        "fig = plt.figure()\n",
        "ax = fig.add_subplot(111, projection='3d')\n",
        "plt.scatter(val_features_3d[:,0],val_features_3d[:,1],val_features_3d[:,2],c=val_labels)\n",
        "plt.show()"
      ]
    },
    {
      "cell_type": "code",
      "execution_count": 6,
      "metadata": {
        "id": "3WA9NJMlMyiZ"
      },
      "outputs": [],
      "source": [
        "import albumentations as A\n",
        "transform1=A.Compose([\n",
        "    A.HorizontalFlip(p=0.5),\n",
        "    A.VerticalFlip(p=0.5),\n",
        "    A.RandomBrightnessContrast(p=0.5),\n",
        "    A.Sharpen(p=0.5)\n",
        "])"
      ]
    },
    {
      "cell_type": "code",
      "execution_count": 7,
      "metadata": {
        "id": "tziYapUnMyiZ"
      },
      "outputs": [],
      "source": [
        "class custom_augment(Dataset):\n",
        "    def __init__(self,dataset,transform=None,isTrain=True):\n",
        "        self.labels=dataset['y']\n",
        "        self.image=dataset['X']\n",
        "        self.transform=transform\n",
        "        self.isTrain=isTrain\n",
        "    def __len__(self):\n",
        "        return self.image.shape[3]\n",
        "\n",
        "    def __getitem__(self,idx):\n",
        "        img=self.image[:,:,:,idx]\n",
        "        if self.isTrain == True:\n",
        "            temp=transform1(image=img)\n",
        "            img=temp['image']\n",
        "        if self.labels[idx][0]==10:\n",
        "            label=0\n",
        "        else:\n",
        "            label=self.labels[idx][0]\n",
        "        if self.transform:\n",
        "            img=self.transform(img)\n",
        "        return img,label"
      ]
    },
    {
      "cell_type": "code",
      "execution_count": 8,
      "metadata": {
        "id": "b5m82t3iMyiZ"
      },
      "outputs": [],
      "source": [
        "from torch.utils.data import random_split\n",
        "transform=transforms.Compose([\n",
        "    transforms.ToTensor()\n",
        "])\n",
        "data_aug=custom_augment(mat,transform=transform,isTrain=True)\n",
        "train_data, val_data, test_data = random_split(data_aug, [int(.7*len(data_aug)), int(.9*len(data_aug))-int(.7*len(data_aug)), len(data_aug)-int(.9*len(data_aug))], generator=torch.Generator().manual_seed(42))\n",
        "train_loader=DataLoader(train_data,batch_size=32,shuffle=True)\n",
        "val_loader=DataLoader(val_data,batch_size=32,shuffle=True)\n",
        "test_loader=DataLoader(test_data,batch_size=32,shuffle=True)"
      ]
    },
    {
      "cell_type": "code",
      "execution_count": null,
      "metadata": {
        "id": "LLW78wcxsICF"
      },
      "outputs": [],
      "source": [
        "!pip install wandb"
      ]
    },
    {
      "cell_type": "code",
      "execution_count": 9,
      "metadata": {
        "colab": {
          "base_uri": "https://localhost:8080/",
          "height": 319
        },
        "id": "2fvxgtF_Myia",
        "outputId": "f002562e-80a2-4840-d259-1c7fb31acdea"
      },
      "outputs": [
        {
          "data": {
            "application/javascript": "\n        window._wandbApiKey = new Promise((resolve, reject) => {\n            function loadScript(url) {\n            return new Promise(function(resolve, reject) {\n                let newScript = document.createElement(\"script\");\n                newScript.onerror = reject;\n                newScript.onload = resolve;\n                document.body.appendChild(newScript);\n                newScript.src = url;\n            });\n            }\n            loadScript(\"https://cdn.jsdelivr.net/npm/postmate/build/postmate.min.js\").then(() => {\n            const iframe = document.createElement('iframe')\n            iframe.style.cssText = \"width:0;height:0;border:none\"\n            document.body.appendChild(iframe)\n            const handshake = new Postmate({\n                container: iframe,\n                url: 'https://wandb.ai/authorize'\n            });\n            const timeout = setTimeout(() => reject(\"Couldn't auto authenticate\"), 5000)\n            handshake.then(function(child) {\n                child.on('authorize', data => {\n                    clearTimeout(timeout)\n                    resolve(data)\n                });\n            });\n            })\n        });\n    ",
            "text/plain": [
              "<IPython.core.display.Javascript object>"
            ]
          },
          "metadata": {},
          "output_type": "display_data"
        },
        {
          "name": "stderr",
          "output_type": "stream",
          "text": [
            "\u001b[34m\u001b[1mwandb\u001b[0m: Logging into wandb.ai. (Learn how to deploy a W&B server locally: https://wandb.me/wandb-server)\n",
            "\u001b[34m\u001b[1mwandb\u001b[0m: You can find your API key in your browser here: https://wandb.ai/authorize\n",
            "wandb: Paste an API key from your profile and hit enter, or press ctrl+c to quit: "
          ]
        },
        {
          "name": "stdout",
          "output_type": "stream",
          "text": [
            "··········\n"
          ]
        },
        {
          "name": "stderr",
          "output_type": "stream",
          "text": [
            "\u001b[34m\u001b[1mwandb\u001b[0m: \u001b[32m\u001b[41mERROR\u001b[0m API key must be 40 characters long, yours was 11\n"
          ]
        },
        {
          "data": {
            "application/javascript": "\n        window._wandbApiKey = new Promise((resolve, reject) => {\n            function loadScript(url) {\n            return new Promise(function(resolve, reject) {\n                let newScript = document.createElement(\"script\");\n                newScript.onerror = reject;\n                newScript.onload = resolve;\n                document.body.appendChild(newScript);\n                newScript.src = url;\n            });\n            }\n            loadScript(\"https://cdn.jsdelivr.net/npm/postmate/build/postmate.min.js\").then(() => {\n            const iframe = document.createElement('iframe')\n            iframe.style.cssText = \"width:0;height:0;border:none\"\n            document.body.appendChild(iframe)\n            const handshake = new Postmate({\n                container: iframe,\n                url: 'https://wandb.ai/authorize'\n            });\n            const timeout = setTimeout(() => reject(\"Couldn't auto authenticate\"), 5000)\n            handshake.then(function(child) {\n                child.on('authorize', data => {\n                    clearTimeout(timeout)\n                    resolve(data)\n                });\n            });\n            })\n        });\n    ",
            "text/plain": [
              "<IPython.core.display.Javascript object>"
            ]
          },
          "metadata": {},
          "output_type": "display_data"
        },
        {
          "name": "stderr",
          "output_type": "stream",
          "text": [
            "\u001b[34m\u001b[1mwandb\u001b[0m: Logging into wandb.ai. (Learn how to deploy a W&B server locally: https://wandb.me/wandb-server)\n",
            "\u001b[34m\u001b[1mwandb\u001b[0m: You can find your API key in your browser here: https://wandb.ai/authorize\n",
            "wandb: Paste an API key from your profile and hit enter, or press ctrl+c to quit: "
          ]
        },
        {
          "name": "stdout",
          "output_type": "stream",
          "text": [
            "··········\n"
          ]
        },
        {
          "name": "stderr",
          "output_type": "stream",
          "text": [
            "\u001b[34m\u001b[1mwandb\u001b[0m: Appending key for api.wandb.ai to your netrc file: /root/.netrc\n"
          ]
        },
        {
          "data": {
            "text/html": [
              "Tracking run with wandb version 0.13.10"
            ],
            "text/plain": [
              "<IPython.core.display.HTML object>"
            ]
          },
          "metadata": {},
          "output_type": "display_data"
        },
        {
          "data": {
            "text/html": [
              "Run data is saved locally in <code>/content/drive/MyDrive/Colab Notebooks/wandb/run-20230222_080836-ebbbncx1</code>"
            ],
            "text/plain": [
              "<IPython.core.display.HTML object>"
            ]
          },
          "metadata": {},
          "output_type": "display_data"
        },
        {
          "data": {
            "text/html": [
              "Syncing run <strong><a href='https://wandb.ai/sahil20326/resnet18/runs/ebbbncx1' target=\"_blank\">decent-sponge-20</a></strong> to <a href='https://wandb.ai/sahil20326/resnet18' target=\"_blank\">Weights & Biases</a> (<a href='https://wandb.me/run' target=\"_blank\">docs</a>)<br/>"
            ],
            "text/plain": [
              "<IPython.core.display.HTML object>"
            ]
          },
          "metadata": {},
          "output_type": "display_data"
        },
        {
          "data": {
            "text/html": [
              " View project at <a href='https://wandb.ai/sahil20326/resnet18' target=\"_blank\">https://wandb.ai/sahil20326/resnet18</a>"
            ],
            "text/plain": [
              "<IPython.core.display.HTML object>"
            ]
          },
          "metadata": {},
          "output_type": "display_data"
        },
        {
          "data": {
            "text/html": [
              " View run at <a href='https://wandb.ai/sahil20326/resnet18/runs/ebbbncx1' target=\"_blank\">https://wandb.ai/sahil20326/resnet18/runs/ebbbncx1</a>"
            ],
            "text/plain": [
              "<IPython.core.display.HTML object>"
            ]
          },
          "metadata": {},
          "output_type": "display_data"
        },
        {
          "data": {
            "text/html": [
              "<button onClick=\"this.nextSibling.style.display='block';this.style.display='none';\">Display W&B run</button><iframe src='https://wandb.ai/sahil20326/resnet18/runs/ebbbncx1?jupyter=true' style='border:none;width:100%;height:420px;display:none;'></iframe>"
            ],
            "text/plain": [
              "<wandb.sdk.wandb_run.Run at 0x7efe96d06100>"
            ]
          },
          "execution_count": 9,
          "metadata": {},
          "output_type": "execute_result"
        }
      ],
      "source": [
        "wandb.init(project=\"resnet18\")"
      ]
    },
    {
      "cell_type": "code",
      "execution_count": 10,
      "metadata": {
        "colab": {
          "base_uri": "https://localhost:8080/",
          "height": 850,
          "referenced_widgets": [
            "9baaa920e791470bbbd42c772c0cd721",
            "7adeeec1faad401cb724b49be9f184f5",
            "4547a2c48c2b44e1b2416cfbdb1526fc",
            "d237a5e24e0c461e86bc9cb5edf33010",
            "43166cdc9b224e15817da5735e347f7e",
            "4c513a06928e46b4870d6b36e4b374ae",
            "ec1ee5933f1149deb5dec731a36fc5f7",
            "b5e1c7cfb98543ec9b5c57aeb8199ed6",
            "9e38817ee0694a77a0125fa9b8967e9c",
            "3621eb4616ba4cb3aa2fd5b06edc7017",
            "69bb110e150b42f8b1f4188809c0e3d4"
          ]
        },
        "id": "7YqQdlhtMyia",
        "outputId": "c403967a-468e-46dc-f499-e4ad90801ddf"
      },
      "outputs": [
        {
          "name": "stderr",
          "output_type": "stream",
          "text": [
            "/usr/local/lib/python3.8/dist-packages/torchvision/models/_utils.py:208: UserWarning: The parameter 'pretrained' is deprecated since 0.13 and may be removed in the future, please use 'weights' instead.\n",
            "  warnings.warn(\n",
            "/usr/local/lib/python3.8/dist-packages/torchvision/models/_utils.py:223: UserWarning: Arguments other than a weight enum or `None` for 'weights' are deprecated since 0.13 and may be removed in the future. The current behavior is equivalent to passing `weights=ResNet18_Weights.IMAGENET1K_V1`. You can also use `weights=ResNet18_Weights.DEFAULT` to get the most up-to-date weights.\n",
            "  warnings.warn(msg)\n",
            "Downloading: \"https://download.pytorch.org/models/resnet18-f37072fd.pth\" to /root/.cache/torch/hub/checkpoints/resnet18-f37072fd.pth\n"
          ]
        },
        {
          "data": {
            "application/vnd.jupyter.widget-view+json": {
              "model_id": "9baaa920e791470bbbd42c772c0cd721",
              "version_major": 2,
              "version_minor": 0
            },
            "text/plain": [
              "  0%|          | 0.00/44.7M [00:00<?, ?B/s]"
            ]
          },
          "metadata": {},
          "output_type": "display_data"
        },
        {
          "name": "stdout",
          "output_type": "stream",
          "text": [
            "Epoch:  0  Loss:  1.0943912257645476\n",
            "Epoch:  1  Loss:  0.7394927694361729\n",
            "Epoch:  2  Loss:  0.6291500117004624\n",
            "Epoch:  3  Loss:  0.5752015924516947\n",
            "Epoch:  4  Loss:  0.5356643388532357\n",
            "Epoch:  5  Loss:  0.4957097779845567\n",
            "Epoch:  6  Loss:  0.47209971087170777\n",
            "Epoch:  7  Loss:  0.4463212715411885\n",
            "Epoch:  8  Loss:  0.42708434672074547\n",
            "Epoch:  9  Loss:  0.41199839374960323\n",
            "Epoch:  10  Loss:  0.39532545242395833\n",
            "Epoch:  11  Loss:  0.3797515760677276\n",
            "Epoch:  12  Loss:  0.36877202772008427\n",
            "Epoch:  13  Loss:  0.35575855397389816\n",
            "Epoch:  14  Loss:  0.3453312720464344\n",
            "Epoch:  15  Loss:  0.3358328282026689\n",
            "Epoch:  16  Loss:  0.3249755284434657\n",
            "Epoch:  17  Loss:  0.3148922325877086\n",
            "Epoch:  18  Loss:  0.3061739420187116\n",
            "Epoch:  19  Loss:  0.2975721187884928\n",
            "Epoch:  20  Loss:  0.28884136302400143\n",
            "Epoch:  21  Loss:  0.2818141157273494\n",
            "Epoch:  22  Loss:  0.27117150543340096\n",
            "Epoch:  23  Loss:  0.2640459497371504\n",
            "Epoch:  24  Loss:  0.2581165056961518\n",
            "Epoch:  25  Loss:  0.25169469211633994\n",
            "Epoch:  26  Loss:  0.23909216125263918\n",
            "Epoch:  27  Loss:  0.23277238043082074\n",
            "Epoch:  28  Loss:  0.23228248675991167\n",
            "Epoch:  29  Loss:  0.22302739371976124\n",
            "Epoch:  30  Loss:  0.2173156779368669\n",
            "Epoch:  31  Loss:  0.21230795067349822\n",
            "Epoch:  32  Loss:  0.20551721849005278\n",
            "Epoch:  33  Loss:  0.20255587528897212\n",
            "Epoch:  34  Loss:  0.19358693820459819\n",
            "Epoch:  35  Loss:  0.19250610709063715\n",
            "Epoch:  36  Loss:  0.1817262490028405\n",
            "Epoch:  37  Loss:  0.1782595339874346\n",
            "Epoch:  38  Loss:  0.17545996316030613\n",
            "Epoch:  39  Loss:  0.17001223136105587\n"
          ]
        }
      ],
      "source": [
        "model2=torchvision.models.resnet18(pretrained=True)\n",
        "model2.fc=nn.Linear(model2.fc.in_features,10)\n",
        "model2.to(\"cuda\")\n",
        "optimizer2=optim.Adam(model2.parameters(),lr=0.001)\n",
        "criterion2=nn.CrossEntropyLoss()\n",
        "wandb.watch(model2, criterion2, log=\"all\", log_freq=10)\n",
        "for epoch in range(40):\n",
        "    training_loss=0\n",
        "    for data in iter(train_loader):\n",
        "        x,y=data\n",
        "        x=x.to(\"cuda\")\n",
        "        y=y.to(\"cuda\")\n",
        "        optimizer2.zero_grad()\n",
        "        output=model2(x)\n",
        "        loss=criterion2(output,y)\n",
        "        loss.backward()\n",
        "        optimizer2.step()\n",
        "        wandb.log({\"loss\":loss.item()})\n",
        "        training_loss+=loss.item()\n",
        "    print(\"Epoch: \",epoch,\" Loss: \",training_loss/len(train_loader))\n"
      ]
    },
    {
      "cell_type": "code",
      "execution_count": 3,
      "metadata": {
        "colab": {
          "base_uri": "https://localhost:8080/"
        },
        "id": "FRplsFjeMyia",
        "outputId": "5c2e1c04-b2c6-4250-c42b-f680762097e6"
      },
      "outputs": [
        {
          "name": "stdout",
          "output_type": "stream",
          "text": [
            "Accuracy :  0.8633633633633634\n",
            "F1 Score :  0.77754602475156112\n",
            "Confusion Matrix :\n",
            "  [[ 28  93  76  56  43  47  25  39  39  34]\n",
            " [ 87 259 194 156 139 130 111 117 109  92]\n",
            " [ 71 206 132 118 108 117  77  79  74  76]\n",
            " [ 51 167 125  83  91  81  75  60  64  59]\n",
            " [ 40 149 109  72  80  83  54  65  48  54]\n",
            " [ 43 129  95  89  62  66  51  51  51  45]\n",
            " [ 36  98  68  73  61  67  47  40  41  28]\n",
            " [ 48 114  78  47  56  61  41  57  42  20]\n",
            " [ 28 103  61  68  54  56  44  32  27  39]\n",
            " [ 43  90  55  48  52  43  34  42  29  31]]\n"
          ]
        }
      ],
      "source": [
        "from sklearn.metrics import confusion_matrix\n",
        "from sklearn.metrics import classification_report\n",
        "from sklearn.metrics import f1_score\n",
        "from sklearn.metrics import accuracy_score\n",
        "from sklearn.metrics import precision_score\n",
        "from sklearn.metrics import recall_score\n",
        "model2.eval()\n",
        "correct=0\n",
        "total=0\n",
        "predicted_list=[]\n",
        "with torch.no_grad():\n",
        "    for data in iter(test_loader):\n",
        "        x,y=data\n",
        "        x=x.to(\"cuda\")\n",
        "        y=y.to(\"cuda\")\n",
        "        output=model2(x)\n",
        "        _,predicted=torch.max(output.data,1)\n",
        "        predicted_list.extend(predicted)\n",
        "        total+=y.size(0)\n",
        "        correct+=(predicted==y).sum().item()\n",
        "print(\"Accuracy : \",correct/total)\n",
        "test_lab=[]\n",
        "for img,lab in iter(test_loader):\n",
        "    test_lab.extend(lab)\n",
        "pred_lab=[]\n",
        "for i in predicted_list:\n",
        "    pred_lab.extend(i.item())\n",
        "print(\"F1 Score : \",f1_score(test_lab,pred_lab,average='macro'))\n",
        "c=confusion_matrix(test_lab,pred_lab)\n",
        "print(\"Confusion Matrix :\\n \",c)\n",
        "wandb.log({\"confusion matrix\":wandb.plot.confusion_matrix(probs=None, y_true=test_lab, preds=pred_lab, class_names=None)})"
      ]
    }
  ],
  "metadata": {
    "accelerator": "GPU",
    "colab": {
      "provenance": []
    },
    "gpuClass": "standard",
    "kernelspec": {
      "display_name": "base",
      "language": "python",
      "name": "python3"
    },
    "language_info": {
      "codemirror_mode": {
        "name": "ipython",
        "version": 3
      },
      "file_extension": ".py",
      "mimetype": "text/x-python",
      "name": "python",
      "nbconvert_exporter": "python",
      "pygments_lexer": "ipython3",
      "version": "3.9.12"
    },
    "vscode": {
      "interpreter": {
        "hash": "3d11c7761a1aa832e4e8b854ba1dfd2435dfdaf41e35e8eebe84d6b9f0badda0"
      }
    },
    "widgets": {
      "application/vnd.jupyter.widget-state+json": {
        "3621eb4616ba4cb3aa2fd5b06edc7017": {
          "model_module": "@jupyter-widgets/base",
          "model_module_version": "1.2.0",
          "model_name": "LayoutModel",
          "state": {
            "_model_module": "@jupyter-widgets/base",
            "_model_module_version": "1.2.0",
            "_model_name": "LayoutModel",
            "_view_count": null,
            "_view_module": "@jupyter-widgets/base",
            "_view_module_version": "1.2.0",
            "_view_name": "LayoutView",
            "align_content": null,
            "align_items": null,
            "align_self": null,
            "border": null,
            "bottom": null,
            "display": null,
            "flex": null,
            "flex_flow": null,
            "grid_area": null,
            "grid_auto_columns": null,
            "grid_auto_flow": null,
            "grid_auto_rows": null,
            "grid_column": null,
            "grid_gap": null,
            "grid_row": null,
            "grid_template_areas": null,
            "grid_template_columns": null,
            "grid_template_rows": null,
            "height": null,
            "justify_content": null,
            "justify_items": null,
            "left": null,
            "margin": null,
            "max_height": null,
            "max_width": null,
            "min_height": null,
            "min_width": null,
            "object_fit": null,
            "object_position": null,
            "order": null,
            "overflow": null,
            "overflow_x": null,
            "overflow_y": null,
            "padding": null,
            "right": null,
            "top": null,
            "visibility": null,
            "width": null
          }
        },
        "43166cdc9b224e15817da5735e347f7e": {
          "model_module": "@jupyter-widgets/base",
          "model_module_version": "1.2.0",
          "model_name": "LayoutModel",
          "state": {
            "_model_module": "@jupyter-widgets/base",
            "_model_module_version": "1.2.0",
            "_model_name": "LayoutModel",
            "_view_count": null,
            "_view_module": "@jupyter-widgets/base",
            "_view_module_version": "1.2.0",
            "_view_name": "LayoutView",
            "align_content": null,
            "align_items": null,
            "align_self": null,
            "border": null,
            "bottom": null,
            "display": null,
            "flex": null,
            "flex_flow": null,
            "grid_area": null,
            "grid_auto_columns": null,
            "grid_auto_flow": null,
            "grid_auto_rows": null,
            "grid_column": null,
            "grid_gap": null,
            "grid_row": null,
            "grid_template_areas": null,
            "grid_template_columns": null,
            "grid_template_rows": null,
            "height": null,
            "justify_content": null,
            "justify_items": null,
            "left": null,
            "margin": null,
            "max_height": null,
            "max_width": null,
            "min_height": null,
            "min_width": null,
            "object_fit": null,
            "object_position": null,
            "order": null,
            "overflow": null,
            "overflow_x": null,
            "overflow_y": null,
            "padding": null,
            "right": null,
            "top": null,
            "visibility": null,
            "width": null
          }
        },
        "4547a2c48c2b44e1b2416cfbdb1526fc": {
          "model_module": "@jupyter-widgets/controls",
          "model_module_version": "1.5.0",
          "model_name": "FloatProgressModel",
          "state": {
            "_dom_classes": [],
            "_model_module": "@jupyter-widgets/controls",
            "_model_module_version": "1.5.0",
            "_model_name": "FloatProgressModel",
            "_view_count": null,
            "_view_module": "@jupyter-widgets/controls",
            "_view_module_version": "1.5.0",
            "_view_name": "ProgressView",
            "bar_style": "success",
            "description": "",
            "description_tooltip": null,
            "layout": "IPY_MODEL_b5e1c7cfb98543ec9b5c57aeb8199ed6",
            "max": 46830571,
            "min": 0,
            "orientation": "horizontal",
            "style": "IPY_MODEL_9e38817ee0694a77a0125fa9b8967e9c",
            "value": 46830571
          }
        },
        "4c513a06928e46b4870d6b36e4b374ae": {
          "model_module": "@jupyter-widgets/base",
          "model_module_version": "1.2.0",
          "model_name": "LayoutModel",
          "state": {
            "_model_module": "@jupyter-widgets/base",
            "_model_module_version": "1.2.0",
            "_model_name": "LayoutModel",
            "_view_count": null,
            "_view_module": "@jupyter-widgets/base",
            "_view_module_version": "1.2.0",
            "_view_name": "LayoutView",
            "align_content": null,
            "align_items": null,
            "align_self": null,
            "border": null,
            "bottom": null,
            "display": null,
            "flex": null,
            "flex_flow": null,
            "grid_area": null,
            "grid_auto_columns": null,
            "grid_auto_flow": null,
            "grid_auto_rows": null,
            "grid_column": null,
            "grid_gap": null,
            "grid_row": null,
            "grid_template_areas": null,
            "grid_template_columns": null,
            "grid_template_rows": null,
            "height": null,
            "justify_content": null,
            "justify_items": null,
            "left": null,
            "margin": null,
            "max_height": null,
            "max_width": null,
            "min_height": null,
            "min_width": null,
            "object_fit": null,
            "object_position": null,
            "order": null,
            "overflow": null,
            "overflow_x": null,
            "overflow_y": null,
            "padding": null,
            "right": null,
            "top": null,
            "visibility": null,
            "width": null
          }
        },
        "69bb110e150b42f8b1f4188809c0e3d4": {
          "model_module": "@jupyter-widgets/controls",
          "model_module_version": "1.5.0",
          "model_name": "DescriptionStyleModel",
          "state": {
            "_model_module": "@jupyter-widgets/controls",
            "_model_module_version": "1.5.0",
            "_model_name": "DescriptionStyleModel",
            "_view_count": null,
            "_view_module": "@jupyter-widgets/base",
            "_view_module_version": "1.2.0",
            "_view_name": "StyleView",
            "description_width": ""
          }
        },
        "7adeeec1faad401cb724b49be9f184f5": {
          "model_module": "@jupyter-widgets/controls",
          "model_module_version": "1.5.0",
          "model_name": "HTMLModel",
          "state": {
            "_dom_classes": [],
            "_model_module": "@jupyter-widgets/controls",
            "_model_module_version": "1.5.0",
            "_model_name": "HTMLModel",
            "_view_count": null,
            "_view_module": "@jupyter-widgets/controls",
            "_view_module_version": "1.5.0",
            "_view_name": "HTMLView",
            "description": "",
            "description_tooltip": null,
            "layout": "IPY_MODEL_4c513a06928e46b4870d6b36e4b374ae",
            "placeholder": "​",
            "style": "IPY_MODEL_ec1ee5933f1149deb5dec731a36fc5f7",
            "value": "100%"
          }
        },
        "9baaa920e791470bbbd42c772c0cd721": {
          "model_module": "@jupyter-widgets/controls",
          "model_module_version": "1.5.0",
          "model_name": "HBoxModel",
          "state": {
            "_dom_classes": [],
            "_model_module": "@jupyter-widgets/controls",
            "_model_module_version": "1.5.0",
            "_model_name": "HBoxModel",
            "_view_count": null,
            "_view_module": "@jupyter-widgets/controls",
            "_view_module_version": "1.5.0",
            "_view_name": "HBoxView",
            "box_style": "",
            "children": [
              "IPY_MODEL_7adeeec1faad401cb724b49be9f184f5",
              "IPY_MODEL_4547a2c48c2b44e1b2416cfbdb1526fc",
              "IPY_MODEL_d237a5e24e0c461e86bc9cb5edf33010"
            ],
            "layout": "IPY_MODEL_43166cdc9b224e15817da5735e347f7e"
          }
        },
        "9e38817ee0694a77a0125fa9b8967e9c": {
          "model_module": "@jupyter-widgets/controls",
          "model_module_version": "1.5.0",
          "model_name": "ProgressStyleModel",
          "state": {
            "_model_module": "@jupyter-widgets/controls",
            "_model_module_version": "1.5.0",
            "_model_name": "ProgressStyleModel",
            "_view_count": null,
            "_view_module": "@jupyter-widgets/base",
            "_view_module_version": "1.2.0",
            "_view_name": "StyleView",
            "bar_color": null,
            "description_width": ""
          }
        },
        "b5e1c7cfb98543ec9b5c57aeb8199ed6": {
          "model_module": "@jupyter-widgets/base",
          "model_module_version": "1.2.0",
          "model_name": "LayoutModel",
          "state": {
            "_model_module": "@jupyter-widgets/base",
            "_model_module_version": "1.2.0",
            "_model_name": "LayoutModel",
            "_view_count": null,
            "_view_module": "@jupyter-widgets/base",
            "_view_module_version": "1.2.0",
            "_view_name": "LayoutView",
            "align_content": null,
            "align_items": null,
            "align_self": null,
            "border": null,
            "bottom": null,
            "display": null,
            "flex": null,
            "flex_flow": null,
            "grid_area": null,
            "grid_auto_columns": null,
            "grid_auto_flow": null,
            "grid_auto_rows": null,
            "grid_column": null,
            "grid_gap": null,
            "grid_row": null,
            "grid_template_areas": null,
            "grid_template_columns": null,
            "grid_template_rows": null,
            "height": null,
            "justify_content": null,
            "justify_items": null,
            "left": null,
            "margin": null,
            "max_height": null,
            "max_width": null,
            "min_height": null,
            "min_width": null,
            "object_fit": null,
            "object_position": null,
            "order": null,
            "overflow": null,
            "overflow_x": null,
            "overflow_y": null,
            "padding": null,
            "right": null,
            "top": null,
            "visibility": null,
            "width": null
          }
        },
        "d237a5e24e0c461e86bc9cb5edf33010": {
          "model_module": "@jupyter-widgets/controls",
          "model_module_version": "1.5.0",
          "model_name": "HTMLModel",
          "state": {
            "_dom_classes": [],
            "_model_module": "@jupyter-widgets/controls",
            "_model_module_version": "1.5.0",
            "_model_name": "HTMLModel",
            "_view_count": null,
            "_view_module": "@jupyter-widgets/controls",
            "_view_module_version": "1.5.0",
            "_view_name": "HTMLView",
            "description": "",
            "description_tooltip": null,
            "layout": "IPY_MODEL_3621eb4616ba4cb3aa2fd5b06edc7017",
            "placeholder": "​",
            "style": "IPY_MODEL_69bb110e150b42f8b1f4188809c0e3d4",
            "value": " 44.7M/44.7M [00:00&lt;00:00, 53.2MB/s]"
          }
        },
        "ec1ee5933f1149deb5dec731a36fc5f7": {
          "model_module": "@jupyter-widgets/controls",
          "model_module_version": "1.5.0",
          "model_name": "DescriptionStyleModel",
          "state": {
            "_model_module": "@jupyter-widgets/controls",
            "_model_module_version": "1.5.0",
            "_model_name": "DescriptionStyleModel",
            "_view_count": null,
            "_view_module": "@jupyter-widgets/base",
            "_view_module_version": "1.2.0",
            "_view_name": "StyleView",
            "description_width": ""
          }
        }
      }
    }
  },
  "nbformat": 4,
  "nbformat_minor": 0
}
