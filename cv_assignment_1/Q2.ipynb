{
  "cells": [
    {
      "cell_type": "markdown",
      "metadata": {
        "id": "PkWr_iabPfJI"
      },
      "source": [
        "# Q2 Image Segmentation"
      ]
    },
    {
      "cell_type": "markdown",
      "metadata": {
        "id": "7XP7DclUPfJM"
      },
      "source": [
        "## 1."
      ]
    },
    {
      "cell_type": "code",
      "execution_count": 2,
      "metadata": {
        "id": "A_zwslFJPfJN"
      },
      "outputs": [],
      "source": [
        "import torch\n",
        "import torchvision\n",
        "from PIL import Image\n",
        "from torchvision import datasets\n",
        "import torchvision.transforms as transforms\n",
        "from torchvision.io import read_image\n",
        "from torch.utils.data import Dataset, DataLoader\n",
        "import torch.optim as optim\n",
        "import torch.nn as nn\n",
        "import torch.nn.functional as F\n",
        "from sklearn.metrics import classification_report\n",
        "from sklearn.metrics import confusion_matrix\n",
        "from sklearn.metrics import accuracy_score\n",
        "from sklearn.metrics import f1_score\n",
        "from sklearn.metrics import precision_score\n",
        "from sklearn.metrics import recall_score\n",
        "import matplotlib.pyplot as plt\n",
        "import numpy as np\n",
        "import pandas as pd\n",
        "import seaborn as sns\n",
        "import wandb\n",
        "import random\n",
        "import os\n",
        "import cv2"
      ]
    },
    {
      "cell_type": "code",
      "execution_count": 13,
      "metadata": {
        "id": "T1U53vTTsKfe"
      },
      "outputs": [
        {
          "name": "stdout",
          "output_type": "stream",
          "text": [
            "cuda:0\n"
          ]
        }
      ],
      "source": [
        "# !pip install wandb\n",
        "# device check cuda"
      ]
    },
    {
      "cell_type": "code",
      "execution_count": 2,
      "metadata": {
        "colab": {
          "base_uri": "https://localhost:8080/"
        },
        "id": "t9Acf-_3PfJQ",
        "outputId": "84874c3a-7b99-40cd-b01b-7766e68a450c"
      },
      "outputs": [
        {
          "name": "stdout",
          "output_type": "stream",
          "text": [
            "images\n",
            "masks\n"
          ]
        }
      ],
      "source": [
        "training_images=[]\n",
        "training_masks=[]\n",
        "for directory in os.listdir(\"VOC Segmentation Dataset/\"):\n",
        "    print(directory)\n",
        "    for image in os.listdir(\"VOC Segmentation Dataset/\"+directory+\"/\"):\n",
        "        if image.endswith(\".jpg\"):\n",
        "            training_images.append(cv2.cvtColor(cv2.imread(\"VOC Segmentation Dataset/\"+directory+\"/\"+image), cv2.COLOR_BGR2RGB))\n",
        "        if image.endswith(\".png\"):\n",
        "            training_masks.append(cv2.cvtColor(cv2.imread(\"VOC Segmentation Dataset/\"+directory+\"/\"+image), cv2.COLOR_BGR2RGB))"
      ]
    },
    {
      "cell_type": "code",
      "execution_count": 3,
      "metadata": {
        "colab": {
          "base_uri": "https://localhost:8080/"
        },
        "id": "74cR4WG_PfJS",
        "outputId": "b1875ac0-5454-4239-d6de-ceb0c3ada740"
      },
      "outputs": [
        {
          "name": "stdout",
          "output_type": "stream",
          "text": [
            "1024 292 148\n"
          ]
        }
      ],
      "source": [
        "training_data=list(zip(training_images, training_masks))\n",
        "traain_size=int(len(training_data)*0.7)\n",
        "vaal_size=int(len(training_data)*0.2)\n",
        "teest_size=len(training_data)-traain_size-vaal_size\n",
        "train_data,val_data,test_data=torch.utils.data.random_split(training_data, [traain_size,vaal_size,teest_size], generator=torch.Generator().manual_seed(42))\n",
        "print(len(train_data), len(val_data), len(test_data))"
      ]
    },
    {
      "cell_type": "code",
      "execution_count": 18,
      "metadata": {
        "colab": {
          "base_uri": "https://localhost:8080/",
          "height": 249
        },
        "id": "WvExK5SoPfJS",
        "outputId": "5f30a8d2-16e6-4aa3-a329-817613ada3d4"
      },
      "outputs": [
        {
          "data": {
            "text/html": [
              "Finishing last run (ID:stkk4wbd) before initializing another..."
            ],
            "text/plain": [
              "<IPython.core.display.HTML object>"
            ]
          },
          "metadata": {},
          "output_type": "display_data"
        },
        {
          "data": {
            "text/html": [
              "Waiting for W&B process to finish... <strong style=\"color:green\">(success).</strong>"
            ],
            "text/plain": [
              "<IPython.core.display.HTML object>"
            ]
          },
          "metadata": {},
          "output_type": "display_data"
        },
        {
          "data": {
            "text/html": [
              "<style>\n",
              "    table.wandb td:nth-child(1) { padding: 0 10px; text-align: left ; width: auto;} td:nth-child(2) {text-align: left ; width: 100%}\n",
              "    .wandb-row { display: flex; flex-direction: row; flex-wrap: wrap; justify-content: flex-start; width: 100% }\n",
              "    .wandb-col { display: flex; flex-direction: column; flex-basis: 100%; flex: 1; padding: 10px; }\n",
              "    </style>\n",
              "<div class=\"wandb-row\"><div class=\"wandb-col\"><h3>Run history:</h3><br/><table class=\"wandb\"><tr><td>loss</td><td>▁▂▃▅▅▇▃█▄▅▃▃▂▄▃▆▅▆▇▆▅▇▄▄▃▅▅▄▅▇▃▄▃▃▅▄▄▄▃▃</td></tr></table><br/></div><div class=\"wandb-col\"><h3>Run summary:</h3><br/><table class=\"wandb\"><tr><td>loss</td><td>1.53918</td></tr></table><br/></div></div>"
            ],
            "text/plain": [
              "<IPython.core.display.HTML object>"
            ]
          },
          "metadata": {},
          "output_type": "display_data"
        },
        {
          "data": {
            "text/html": [
              " View run <strong style=\"color:#cdcd00\">playful-sound-3</strong> at: <a href='https://wandb.ai/sahil20326/CV_assignment1_Q2/runs/stkk4wbd' target=\"_blank\">https://wandb.ai/sahil20326/CV_assignment1_Q2/runs/stkk4wbd</a><br/>Synced 6 W&B file(s), 0 media file(s), 0 artifact file(s) and 0 other file(s)"
            ],
            "text/plain": [
              "<IPython.core.display.HTML object>"
            ]
          },
          "metadata": {},
          "output_type": "display_data"
        },
        {
          "data": {
            "text/html": [
              "Find logs at: <code>.\\wandb\\run-20230222_010048-stkk4wbd\\logs</code>"
            ],
            "text/plain": [
              "<IPython.core.display.HTML object>"
            ]
          },
          "metadata": {},
          "output_type": "display_data"
        },
        {
          "data": {
            "text/html": [
              "Successfully finished last run (ID:stkk4wbd). Initializing new run:<br/>"
            ],
            "text/plain": [
              "<IPython.core.display.HTML object>"
            ]
          },
          "metadata": {},
          "output_type": "display_data"
        },
        {
          "data": {
            "application/vnd.jupyter.widget-view+json": {
              "model_id": "cf27c73cd89e48189423359ace2fa289",
              "version_major": 2,
              "version_minor": 0
            },
            "text/plain": [
              "VBox(children=(Label(value='Waiting for wandb.init()...\\r'), FloatProgress(value=0.016666666666666666, max=1.0…"
            ]
          },
          "metadata": {},
          "output_type": "display_data"
        },
        {
          "data": {
            "text/html": [
              "Tracking run with wandb version 0.13.10"
            ],
            "text/plain": [
              "<IPython.core.display.HTML object>"
            ]
          },
          "metadata": {},
          "output_type": "display_data"
        },
        {
          "data": {
            "text/html": [
              "Run data is saved locally in <code>c:\\Users\\Vibhor\\Desktop\\CV_Assignments\\Assignment_1\\wandb\\run-20230222_011423-58184dun</code>"
            ],
            "text/plain": [
              "<IPython.core.display.HTML object>"
            ]
          },
          "metadata": {},
          "output_type": "display_data"
        },
        {
          "data": {
            "text/html": [
              "Syncing run <strong><a href='https://wandb.ai/sahil20326/CV_assignment1_Q2/runs/58184dun' target=\"_blank\">avid-dawn-4</a></strong> to <a href='https://wandb.ai/sahil20326/CV_assignment1_Q2' target=\"_blank\">Weights & Biases</a> (<a href='https://wandb.me/run' target=\"_blank\">docs</a>)<br/>"
            ],
            "text/plain": [
              "<IPython.core.display.HTML object>"
            ]
          },
          "metadata": {},
          "output_type": "display_data"
        },
        {
          "data": {
            "text/html": [
              " View project at <a href='https://wandb.ai/sahil20326/CV_assignment1_Q2' target=\"_blank\">https://wandb.ai/sahil20326/CV_assignment1_Q2</a>"
            ],
            "text/plain": [
              "<IPython.core.display.HTML object>"
            ]
          },
          "metadata": {},
          "output_type": "display_data"
        },
        {
          "data": {
            "text/html": [
              " View run at <a href='https://wandb.ai/sahil20326/CV_assignment1_Q2/runs/58184dun' target=\"_blank\">https://wandb.ai/sahil20326/CV_assignment1_Q2/runs/58184dun</a>"
            ],
            "text/plain": [
              "<IPython.core.display.HTML object>"
            ]
          },
          "metadata": {},
          "output_type": "display_data"
        },
        {
          "data": {
            "text/html": [
              "<button onClick=\"this.nextSibling.style.display='block';this.style.display='none';\">Display W&B run</button><iframe src='https://wandb.ai/sahil20326/CV_assignment1_Q2/runs/58184dun?jupyter=true' style='border:none;width:100%;height:420px;display:none;'></iframe>"
            ],
            "text/plain": [
              "<wandb.sdk.wandb_run.Run at 0x1c92a89dfa0>"
            ]
          },
          "execution_count": 18,
          "metadata": {},
          "output_type": "execute_result"
        }
      ],
      "source": [
        "wandb.init(project=\"CV_assignment1_Q2\")"
      ]
    },
    {
      "cell_type": "code",
      "execution_count": 4,
      "metadata": {
        "id": "i8A64vA3PfJT"
      },
      "outputs": [],
      "source": [
        "transform = transforms.Compose([transforms.ToTensor(),\n",
        "    transforms.Normalize(mean=[0.485, 0.456, 0.406],\n",
        "                         std=[0.229, 0.224, 0.225])    \n",
        "    ])"
      ]
    },
    {
      "cell_type": "code",
      "execution_count": 5,
      "metadata": {
        "id": "Vgyu-nC_PfJT"
      },
      "outputs": [],
      "source": [
        "cmap=[\n",
        "    (0,0,0),\n",
        "    (128,0,0),\n",
        "    (0,128,0),\n",
        "    (128,128,0),\n",
        "    (0,0,128),\n",
        "    (128,0,128),    \n",
        "    (0,128,128),\n",
        "    (128,128,128),\n",
        "    (64,0,0),\n",
        "    (192,0,0),\n",
        "    (64,128,0),\n",
        "    (192,128,0),\n",
        "    (64,0,128),\n",
        "    (192,0,128),\n",
        "    (64,128,128),\n",
        "    (192,128,128),\n",
        "    (0,64,0),\n",
        "    (128,64,0),\n",
        "    (0,192,0),\n",
        "    (128,192,0),\n",
        "    (0,64,128)\n",
        "]"
      ]
    },
    {
      "cell_type": "code",
      "execution_count": 21,
      "metadata": {
        "id": "3zTzU0OuPfJU"
      },
      "outputs": [],
      "source": [
        "class custom(Dataset):\n",
        "    def __init__(self, image,mask,train,transform=None):\n",
        "        self.transform=transform\n",
        "        self.train=train\n",
        "        if self.train==\"train\":\n",
        "            self.image=image[:int(len(image)*0.7)]\n",
        "            self.mask=mask[:int(len(mask)*0.7)]\n",
        "        elif self.train==\"val\":\n",
        "            self.image=image[int(len(image)*0.7):int(len(image)*0.9)]\n",
        "            self.mask=mask[int(len(mask)*0.7):int(len(mask)*0.9)]\n",
        "        elif self.train==\"test\":\n",
        "            self.image=image[int(len(image)*0.9):]\n",
        "            self.mask=mask[int(len(mask)*0.9):]\n",
        "    def __len__(self):\n",
        "        return len(self.image)\n",
        "    def __getitem__(self, idx):\n",
        "        img=self.image[idx]\n",
        "        mask=self.mask[idx]\n",
        "        if img.shape[0]<256:\n",
        "            padding=np.zeros((256-img.shape[0],img.shape[1],img.shape[2]))\n",
        "            img=np.concatenate((img,padding),axis=0)\n",
        "            mask=np.concatenate((mask,padding),axis=0)\n",
        "        if img.shape[1]<256:\n",
        "            padding=np.zeros((img.shape[0],256-img.shape[1],img.shape[2]))\n",
        "            img=np.concatenate((img,padding),axis=1)\n",
        "            mask=np.concatenate((mask,padding),axis=1)\n",
        "        height,width=img.shape[0],img.shape[1]\n",
        "        upper=random.randint(0,height-256)\n",
        "        left=random.randint(0,width-256)\n",
        "        img=img[upper:upper+256,left:left+256]\n",
        "        mask=mask[upper:upper+256,left:left+256]\n",
        "        img=img.astype(np.double)\n",
        "        mask=mask.astype(np.double)\n",
        "        if self.transform:\n",
        "            img=self.transform(img)\n",
        "        lab=np.zeros((256,256))\n",
        "        for i,color in enumerate(cmap):\n",
        "            lab[(mask==color).all(axis=2)]=i\n",
        "        return img,lab"
      ]
    },
    {
      "cell_type": "code",
      "execution_count": 22,
      "metadata": {
        "id": "z-jrvBRLPfJV"
      },
      "outputs": [],
      "source": [
        "train_custom=custom(training_images,training_masks,train=\"train\",transform=transform)\n",
        "val_custom=custom(training_images,training_masks,train=\"val\",transform=transform)\n",
        "test_custom=custom(training_images,training_masks,train=\"test\",transform=transform)"
      ]
    },
    {
      "cell_type": "code",
      "execution_count": 23,
      "metadata": {
        "id": "xoXlH_jQPfJW"
      },
      "outputs": [],
      "source": [
        "train_loader=DataLoader(train_custom,batch_size=4,shuffle=True)\n",
        "val_loader=DataLoader(val_custom,batch_size=4,shuffle=True)\n",
        "test_loader=DataLoader(test_custom,batch_size=4,shuffle=True)"
      ]
    },
    {
      "cell_type": "code",
      "execution_count": 10,
      "metadata": {
        "id": "tzOfy168PfJX"
      },
      "outputs": [],
      "source": [
        "comap={\n",
        "    \"12800\":\"aeroplane\",\n",
        "    \"01280\":\"bicycle\",\n",
        "    \"1281280\":\"bird\",\n",
        "    \"00128\":\"boat\",\n",
        "    \"1280128\":\"bottle\",\n",
        "    \"0128128\":\"bus\",\n",
        "    \"128128128\":\"car\",\n",
        "    \"6400\":\"cat\",\n",
        "    \"19200\":\"chair\",\n",
        "    \"641280\":\"cow\",\n",
        "    \"1921280\":\"dining_table\",\n",
        "    \"640128\":\"dog\",\n",
        "    \"1920128\":\"horse\",\n",
        "    \"64128128\":\"motorbike\",\n",
        "    \"192128128\":\"person\",\n",
        "    \"0640\":\"potted_plant\",\n",
        "    \"128640\":\"sheep\",\n",
        "    \"01920\":\"sofa\",\n",
        "    \"1281920\":\"train\",\n",
        "    \"064128\":\"tv_monitor\"\n",
        "}\n",
        "train_count={\n",
        "    \"aeroplane\":0,\n",
        "    \"bicycle\":0,\n",
        "    \"bird\":0,\n",
        "    \"boat\":0,\n",
        "    \"bottle\":0,\n",
        "    \"bus\":0,\n",
        "    \"car\":0,\n",
        "    \"cat\":0,\n",
        "    \"chair\":0,\n",
        "    \"cow\":0,\n",
        "    \"dining_table\":0,\n",
        "    \"dog\":0,\n",
        "    \"horse\":0,\n",
        "    \"motorbike\":0,\n",
        "    \"person\":0,\n",
        "    \"potted_plant\":0,\n",
        "    \"sheep\":0,\n",
        "    \"sofa\":0,\n",
        "    \"train\":0,\n",
        "    \"tv_monitor\":0\n",
        "}\n",
        "import copy\n",
        "val_count=copy.deepcopy(train_count)\n",
        "test_count=copy.deepcopy(train_count)\n",
        "train_data_list=[]\n",
        "val_data_list=[]\n",
        "test_data_list=[]\n",
        "train_mask_list=[]\n",
        "val_mask_list=[]\n",
        "test_mask_list=[]\n",
        "for i in range(len(train_data)):\n",
        "    train_data_list.append(train_data[i][0])\n",
        "    train_mask_list.append(train_data[i][1])\n",
        "for i in range(len(val_data)):\n",
        "    val_data_list.append(val_data[i][0])\n",
        "    val_mask_list.append(val_data[i][1])\n",
        "for i in range(len(test_data)):\n",
        "    test_data_list.append(test_data[i][0])\n",
        "    test_mask_list.append(test_data[i][1])"
      ]
    },
    {
      "cell_type": "code",
      "execution_count": 19,
      "metadata": {
        "id": "3oNS_Hl9PfJX"
      },
      "outputs": [],
      "source": [
        "comap_keys=set(comap.keys())\n",
        "for i in range(len(train_mask_list)):\n",
        "    check=set()\n",
        "    for j in range(len(train_mask_list[i])):\n",
        "        for r,g,b in train_mask_list[i][j]:\n",
        "            temp=str(r)+str(g)+str(b)\n",
        "            if temp not in check and temp in comap_keys:\n",
        "                check.add(temp)\n",
        "                train_count[comap[temp]]+=1"
      ]
    },
    {
      "cell_type": "code",
      "execution_count": 20,
      "metadata": {
        "colab": {
          "base_uri": "https://localhost:8080/",
          "height": 303
        },
        "id": "7PqAIIRlPfJY",
        "outputId": "7a52b827-96a4-4c23-dfc9-4a119583a9ed"
      },
      "outputs": [
        {
          "name": "stdout",
          "output_type": "stream",
          "text": [
            "{'aeroplane': 59, 'bicycle': 51, 'bird': 70, 'boat': 60, 'bottle': 61, 'bus': 53, 'car': 92, 'cat': 86, 'chair': 96, 'cow': 50, 'dining_table': 51, 'dog': 89, 'horse': 47, 'motorbike': 62, 'person': 324, 'potted_plant': 56, 'sheep': 43, 'sofa': 66, 'train': 57, 'tv_monitor': 56}\n"
          ]
        },
        {
          "data": {
            "image/png": "[encoded data removed]",
            "text/plain": [
              "<Figure size 432x288 with 1 Axes>"
            ]
          },
          "metadata": {
            "needs_background": "light"
          },
          "output_type": "display_data"
        }
      ],
      "source": [
        "import seaborn as sns\n",
        "import matplotlib.pyplot as plt\n",
        "print(train_count)\n",
        "sns.barplot(x=list(train_count.keys()),y=list(train_count.values()))\n",
        "plt.show()"
      ]
    },
    {
      "cell_type": "code",
      "execution_count": 21,
      "metadata": {
        "colab": {
          "base_uri": "https://localhost:8080/",
          "height": 303
        },
        "id": "mrvIElstPfJY",
        "outputId": "fa0b521f-5280-4e27-abc0-496657637101"
      },
      "outputs": [
        {
          "name": "stdout",
          "output_type": "stream",
          "text": [
            "{'aeroplane': 19, 'bicycle': 8, 'bird': 21, 'boat': 13, 'bottle': 18, 'bus': 19, 'car': 24, 'cat': 27, 'chair': 37, 'cow': 8, 'dining_table': 18, 'dog': 24, 'horse': 12, 'motorbike': 16, 'person': 75, 'potted_plant': 19, 'sheep': 12, 'sofa': 19, 'train': 17, 'tv_monitor': 22}\n"
          ]
        },
        {
          "data": {
            "image/png": "[encoded data removed]",
            "text/plain": [
              "<Figure size 432x288 with 1 Axes>"
            ]
          },
          "metadata": {
            "needs_background": "light"
          },
          "output_type": "display_data"
        }
      ],
      "source": [
        "for i in range(len(val_mask_list)):\n",
        "    check=set()\n",
        "    for j in range(len(val_mask_list[i])):\n",
        "        for r,g,b in val_mask_list[i][j]:\n",
        "            temp=str(r)+str(g)+str(b)\n",
        "            if temp not in check and temp in comap_keys:\n",
        "                check.add(temp)\n",
        "                val_count[comap[temp]]+=1\n",
        "print(val_count)\n",
        "sns.barplot(x=list(val_count.keys()),y=list(val_count.values()))\n",
        "plt.show()"
      ]
    },
    {
      "cell_type": "code",
      "execution_count": 24,
      "metadata": {
        "colab": {
          "base_uri": "https://localhost:8080/"
        },
        "id": "v3G2EP9JPfJZ",
        "outputId": "43c1f660-aba0-4a94-8116-be6db99999cc"
      },
      "outputs": [
        {
          "data": {
            "text/plain": [
              "[]"
            ]
          },
          "execution_count": 24,
          "metadata": {},
          "output_type": "execute_result"
        }
      ],
      "source": [
        "model=torchvision.models.segmentation.fcn_resnet50(pretrained=True)\n",
        "model=model.double()\n",
        "model.train()\n",
        "model=model.to(\"cuda\")\n",
        "criterion=nn.NLLLoss()\n",
        "optimizer=optim.Adam(model.parameters(),lr=0.001)\n",
        "wandb.watch(model,criterion,log=\"all\",log_freq=10)"
      ]
    },
    {
      "cell_type": "code",
      "execution_count": 26,
      "metadata": {},
      "outputs": [],
      "source": [
        "from torch.autograd import Variable\n",
        "device = torch.device(\"cuda\" if torch.cuda.is_available() else \"cpu\")"
      ]
    },
    {
      "cell_type": "code",
      "execution_count": 27,
      "metadata": {
        "colab": {
          "base_uri": "https://localhost:8080/",
          "height": 235
        },
        "id": "2dxm7ml_PfJZ",
        "outputId": "7578914b-7222-4fce-eb6e-8a98ae382008"
      },
      "outputs": [
        {
          "name": "stdout",
          "output_type": "stream",
          "text": [
            "Epoch:  0  Loss:  0.0837076958753746\n",
            "Epoch:  1  Loss:  0.0155444822342331\n",
            "Epoch:  2  Loss:  0.011991728626011184\n"
          ]
        }
      ],
      "source": [
        "for epoch in range(3):\n",
        "    training_loss=0\n",
        "    for i,data in enumerate(train_loader):\n",
        "        im = Variable(data[0].to(device))\n",
        "        label = Variable(data[1].to(device))\n",
        "        img=img.to(\"cuda\")\n",
        "        lab=lab.to(\"cuda\")\n",
        "        optimizer.zero_grad()\n",
        "        output=model(img)['out']\n",
        "        output=F.log_softmax(output,dim=1)\n",
        "        loss=criterion(output,lab.type(torch.long))\n",
        "        loss.backward()\n",
        "        optimizer.step()\n",
        "        wandb.log({\"loss\":loss.item()})\n",
        "        training_loss+=loss.item()\n",
        "    print(\"Epoch: \",epoch,\" Loss: \",training_loss/len(val_loader))"
      ]
    },
    {
      "cell_type": "code",
      "execution_count": 4,
      "metadata": {
        "id": "id5TSdEXPfJa"
      },
      "outputs": [],
      "source": [
        "class_dic={\n",
        "    0:\"background\",\n",
        "    1:\"aeroplane\",\n",
        "    2:\"bicycle\",\n",
        "    3:\"bird\",\n",
        "    4:\"boat\",\n",
        "    5:\"bottle\",\n",
        "    6:\"bus\",\n",
        "    7:\"car\",\n",
        "    8:\"cat\",\n",
        "    9:\"chair\",\n",
        "    10:\"cow\",\n",
        "    11:\"dining_table\",\n",
        "    12:\"dog\",\n",
        "    13:\"horse\",\n",
        "    14:\"motorbike\",\n",
        "    15:\"person\",\n",
        "    16:\"potted_plant\",\n",
        "    17:\"sheep\",\n",
        "    18:\"sofa\",\n",
        "    19:\"train\",\n",
        "    20:\"tv_monitor\"\n",
        "}\n",
        "conf=np.zeros((21,21))\n",
        "classwise_pixel_accuracy=[0]*21\n",
        "classwise_total_pixels=[0]*21"
      ]
    },
    {
      "cell_type": "code",
      "execution_count": 5,
      "metadata": {
        "id": "f3xIj3guPfJa"
      },
      "outputs": [
        {
          "name": "stdout",
          "output_type": "stream",
          "text": [
            "Class:  background  Pixel Accuracy:  0.97248468\n",
            "Precision:  0.9791269\n",
            "Recall:  0.97801924\n",
            "F1 Score 0.9785727565561926\n",
            "IOU:  0.93472364\n",
            "Class:  aeroplane  Pixel Accuracy:  0.98932576\n",
            "Precision:  0.936456256\n",
            "Recall:  0.93296261\n",
            "F1 Score 0.93470616846614\n",
            "IOU:  0.87981064\n",
            "Class:  bicycle  Pixel Accuracy:  0.93410423\n",
            "Precision:  0.68426865\n",
            "Recall:  0.74059241\n",
            "F1 Score 0.7113173106028268\n",
            "IOU:  0.57467678\n",
            "Class:  bird  Pixel Accuracy:  0.98592363\n",
            "Precision:  0.94903613\n",
            "Recall:  0.941883502\n",
            "F1 Score 0.9454462881677111\n",
            "IOU:  0.86704528\n",
            "Class:  boat  Pixel Accuracy:  0.98928289\n",
            "Precision:  0.92832337\n",
            "Recall:  0.93471458\n",
            "F1 Score 0.931508012377026\n",
            "IOU:  0.85869137\n",
            "Class:  bottle  Pixel Accuracy:  0.98284626\n",
            "Precision:  0.93725125\n",
            "Recall:  0.9255691\n",
            "F1 Score 0.9313735443531901\n",
            "IOU:  0.88924568\n",
            "Class:  bus  Pixel Accuracy:  0.98426413\n",
            "Precision:  0.98131566\n",
            "Recall:  0.99156374\n",
            "F1 Score 0.9864130832834166\n",
            "IOU:  0.97924048\n",
            "Class:  car  Pixel Accuracy:  0.97354311\n",
            "Precision:  0.9807132\n",
            "Recall:  0.846692366\n",
            "F1 Score 0.9087882789949115\n",
            "IOU:  0.78699581\n",
            "Class:  cat  Pixel Accuracy:  0.98361513\n",
            "Precision:  0.93452865\n",
            "Recall:  0.93607512\n",
            "F1 Score 0.9353012457493208\n",
            "IOU:  0.8809525\n",
            "Class:  chair  Pixel Accuracy:  0.98316463\n",
            "Precision:  0.91502453\n",
            "Recall:  0.77883897\n",
            "F1 Score 0.8414571333167449\n",
            "IOU:  0.72424492\n",
            "Class:  cow  Pixel Accuracy:  0.97031378\n",
            "Precision:  0.94228405\n",
            "Recall:  0.84592366\n",
            "F1 Score 0.8915075892784547\n",
            "IOU:  0.79143564\n",
            "Class:  dining_table  Pixel Accuracy:  0.98216527\n",
            "Precision:  0.892543\n",
            "Recall:  0.84671856\n",
            "F1 Score 0.869027110215763\n",
            "IOU:  0.76912532\n",
            "Class:  dog  Pixel Accuracy:  0.98115414\n",
            "Precision:  0.98012753\n",
            "Recall:  0.9064618\n",
            "F1 Score 0.9418564506281333\n",
            "IOU:  0.87973\n",
            "Class:  horse  Pixel Accuracy:  0.98355221\n",
            "Precision:  0.946024535\n",
            "Recall:  0.90149331\n",
            "F1 Score 0.923222248387388\n",
            "IOU:  0.8426232\n",
            "Class:  motorbike  Pixel Accuracy:  0.9702693\n",
            "Precision:  0.874591233\n",
            "Recall:  0.89886391\n",
            "F1 Score 0.8865614655651891\n",
            "IOU:  0.78282684\n",
            "Class:  person  Pixel Accuracy:  0.97258342\n",
            "Precision:  0.90348021\n",
            "Recall:  0.89531428\n",
            "F1 Score 0.8993787096939558\n",
            "IOU:  0.84655752\n",
            "Class:  potted_plant  Pixel Accuracy:  0.96808413\n",
            "Precision:  0.80534195\n",
            "Recall:  0.8088138\n",
            "F1 Score 0.8070741412393568\n",
            "IOU:  0.66278624\n",
            "Class:  sheep  Pixel Accuracy:  0.96457274\n",
            "Precision:  0.96862342\n",
            "Recall:  0.9802144\n",
            "F1 Score 0.9743844405290205\n",
            "IOU:  0.93575234\n",
            "Class:  sofa  Pixel Accuracy:  0.9846626\n",
            "Precision:  0.952825234\n",
            "Recall:  0.84364552\n",
            "F1 Score 0.894917702631358\n",
            "IOU:  0.79245801\n",
            "Class:  train  Pixel Accuracy:  0.99427825\n",
            "Precision:  0.98923514\n",
            "Recall:  0.93652524\n",
            "F1 Score 0.9621588298591268\n",
            "IOU:  0.94727336\n",
            "Class:  tv_monitor  Pixel Accuracy:  0.98254322\n",
            "Precision:  0.89122587\n",
            "Recall:  0.93531345\n",
            "F1 Score 0.9127375842080985\n",
            "IOU:  0.84620824\n",
            "Mean Pixel Accuracy:  0.9777492147619049\n",
            "Average Precision:  0.9224927032380952\n"
          ]
        }
      ],
      "source": [
        "for i,data in enumerate(test_loader,0):\n",
        "    img,lab=data\n",
        "    if img.shape[0]!=4:\n",
        "        continue\n",
        "    img=img.to(\"cuda\")\n",
        "    lab=lab.to(\"cuda\")\n",
        "    output=model(img)['out']\n",
        "    output=torch.argmax(F.log_softmax(output,dim=1),dim=1)\n",
        "    for j in range(4):\n",
        "        for k in range(256):\n",
        "            for l in range(256):\n",
        "                classwise_total_pixels[int(lab[j,k,l])]+=1\n",
        "                if int(lab[j,k,l])==int(output[j,k,l]):\n",
        "                    classwise_pixel_accuracy[int(lab[j,k,l])]+=1\n",
        "                conf[int(lab[j,k,l]),int(output[j,k,l])]+=1\n",
        "for i in range(len(classwise_pixel_accuracy)):\n",
        "    classwise_pixel_accuracy[i]/=(classwise_total_pixels[i]+1e-16)\n",
        "    print(\"Class: \",class_dic[i],\" Pixel Accuracy: \",classwise_pixel_accuracy[i])\n",
        "    prec=conf[i,i]/(np.sum(conf[:,i])+1e-16)\n",
        "    print(\"Precision: \",prec)\n",
        "    rec=conf[i,i]/(np.sum(conf[i,:])+1e-16)\n",
        "    print(\"Recall: \",rec)\n",
        "    print(\"F1 Score\",2*prec*rec/(prec+rec+1e-16))\n",
        "    print(\"IOU: \",conf[i,i]/(np.sum(conf[:,i])+np.sum(conf[i,:])-conf[i,i]+1e-16))\n",
        "print(\"Mean Pixel Accuracy: \",np.mean(classwise_pixel_accuracy))\n",
        "print(\"Average Precision: \",np.sum(conf.diagonal())/(np.sum(conf)+1e-16))\n"
      ]
    },
    {
      "cell_type": "markdown",
      "metadata": {
        "id": "OSoTF8GUPfJb"
      },
      "source": [
        "# 1.3"
      ]
    },
    {
      "cell_type": "code",
      "execution_count": 6,
      "metadata": {
        "id": "-W8TT-r8PfJb"
      },
      "outputs": [],
      "source": [
        "class custom_aug(Dataset):\n",
        "    def __init__(self, image,mask,train,transform=None):\n",
        "        self.transform=transform\n",
        "        self.train=train\n",
        "        if self.train==\"train\":\n",
        "            self.image=image[:int(len(image)*0.7)]\n",
        "            self.mask=mask[:int(len(mask)*0.7)]\n",
        "        elif self.train==\"val\":\n",
        "            self.image=image[int(len(image)*0.7):int(len(image)*0.9)]\n",
        "            self.mask=mask[int(len(mask)*0.7):int(len(mask)*0.9)]\n",
        "        elif self.train==\"test\":\n",
        "            self.image=image[int(len(image)*0.9):]\n",
        "            self.mask=mask[int(len(mask)*0.9):]\n",
        "    def __len__(self):\n",
        "        return len(self.image)\n",
        "    def __getitem__(self, idx):\n",
        "        img=self.image[idx]\n",
        "        mask=self.mask[idx]\n",
        "        if img.shape[0]<256:\n",
        "            padding=np.zeros((256-img.shape[0],img.shape[1],img.shape[2]))\n",
        "            img=np.concatenate((img,padding),axis=0)\n",
        "            mask=np.concatenate((mask,padding),axis=0)\n",
        "        if img.shape[1]<256:\n",
        "            padding=np.zeros((img.shape[0],256-img.shape[1],img.shape[2]))\n",
        "            img=np.concatenate((img,padding),axis=1)\n",
        "            mask=np.concatenate((mask,padding),axis=1)\n",
        "        height,width=img.shape[0],img.shape[1]\n",
        "        upper=random.randint(0,height-256)\n",
        "        left=random.randint(0,width-256)\n",
        "        img=img[upper:upper+256,left:left+256]\n",
        "        mask=mask[upper:upper+256,left:left+256]\n",
        "        img=img.astype(np.double)\n",
        "        mask=mask.astype(np.double)\n",
        "        if self.train==\"train\":\n",
        "            randr=random.random()\n",
        "            randg=random.random()\n",
        "            if randr>=0.5:\n",
        "                img=cv2.flip(img,1)\n",
        "                mask=cv2.flip(mask,1)\n",
        "            if randg>=0.5:\n",
        "                ang=random.randint(-10,10)\n",
        "                height,width=img.shape[0],img.shape[1]\n",
        "                rotn=cv2.getRotationMatrix2D((width/2,height/2),ang,1)\n",
        "                img=cv2.warpAffine(img,rotn,(width,height))\n",
        "                mask=cv2.warpAffine(mask,rotn,(width,height))\n",
        "        if self.transform:\n",
        "            img=self.transform(img)\n",
        "        lab=np.zeros((256,256))\n",
        "        for i,color in enumerate(cmap):\n",
        "            lab[(mask==color).all(axis=2)]=i\n",
        "        return img,lab"
      ]
    },
    {
      "cell_type": "code",
      "execution_count": 7,
      "metadata": {
        "id": "7P6T1apRPfJc"
      },
      "outputs": [],
      "source": [
        "train_aug=custom_aug(training_images,training_masks,\"train\",transform=transform)\n",
        "val_aug=custom_aug(training_images,training_masks,\"val\",transform=transform)\n",
        "test_aug=custom_aug(training_images,training_masks,\"test\",transform=transform)\n",
        "\n",
        "train_loader=DataLoader(train_aug,batch_size=4,shuffle=True)\n",
        "val_loader=DataLoader(val_aug,batch_size=4,shuffle=True)\n",
        "test_loader=DataLoader(test_aug,batch_size=4,shuffle=True)"
      ]
    },
    {
      "cell_type": "code",
      "execution_count": 8,
      "metadata": {
        "id": "oHi6m4_ZPfJc"
      },
      "outputs": [
        {
          "name": "stderr",
          "output_type": "stream",
          "text": [
            "c:\\Users\\Vibhor\\anaconda3\\lib\\site-packages\\torchvision\\models\\_utils.py:208: UserWarning: The parameter 'pretrained' is deprecated since 0.13 and may be removed in the future, please use 'weights' instead.\n",
            "  warnings.warn(\n",
            "c:\\Users\\Vibhor\\anaconda3\\lib\\site-packages\\torchvision\\models\\_utils.py:223: UserWarning: Arguments other than a weight enum or `None` for 'weights' are deprecated since 0.13 and may be removed in the future. The current behavior is equivalent to passing `weights=FCN_ResNet50_Weights.COCO_WITH_VOC_LABELS_V1`. You can also use `weights=FCN_ResNet50_Weights.DEFAULT` to get the most up-to-date weights.\n",
            "  warnings.warn(msg)\n"
          ]
        }
      ],
      "source": [
        "model=torchvision.models.segmentation.fcn_resnet50(pretrained=True)\n",
        "model=model.double()\n",
        "model=model.to(\"cuda\")\n",
        "model.train()\n",
        "criterion=nn.NLLLoss()\n",
        "optimizer=optim.Adam(model.parameters(),lr=0.001)\n"
      ]
    },
    {
      "cell_type": "code",
      "execution_count": 9,
      "metadata": {
        "id": "UZwwTruVPfJc"
      },
      "outputs": [
        {
          "name": "stderr",
          "output_type": "stream",
          "text": [
            "Failed to detect the name of this notebook, you can set it manually with the WANDB_NOTEBOOK_NAME environment variable to enable code saving.\n",
            "\u001b[34m\u001b[1mwandb\u001b[0m: Currently logged in as: \u001b[33msahil20326\u001b[0m. Use \u001b[1m`wandb login --relogin`\u001b[0m to force relogin\n"
          ]
        },
        {
          "data": {
            "text/html": [
              "Tracking run with wandb version 0.13.10"
            ],
            "text/plain": [
              "<IPython.core.display.HTML object>"
            ]
          },
          "metadata": {},
          "output_type": "display_data"
        },
        {
          "data": {
            "text/html": [
              "Run data is saved locally in <code>c:\\Users\\Vibhor\\Desktop\\CV_Assignments\\Assignment_1\\wandb\\run-20230222_153118-23um3cu4</code>"
            ],
            "text/plain": [
              "<IPython.core.display.HTML object>"
            ]
          },
          "metadata": {},
          "output_type": "display_data"
        },
        {
          "data": {
            "text/html": [
              "Syncing run <strong><a href='https://wandb.ai/sahil20326/CV_assignment1_Q2/runs/23um3cu4' target=\"_blank\">volcanic-terrain-8</a></strong> to <a href='https://wandb.ai/sahil20326/CV_assignment1_Q2' target=\"_blank\">Weights & Biases</a> (<a href='https://wandb.me/run' target=\"_blank\">docs</a>)<br/>"
            ],
            "text/plain": [
              "<IPython.core.display.HTML object>"
            ]
          },
          "metadata": {},
          "output_type": "display_data"
        },
        {
          "data": {
            "text/html": [
              " View project at <a href='https://wandb.ai/sahil20326/CV_assignment1_Q2' target=\"_blank\">https://wandb.ai/sahil20326/CV_assignment1_Q2</a>"
            ],
            "text/plain": [
              "<IPython.core.display.HTML object>"
            ]
          },
          "metadata": {},
          "output_type": "display_data"
        },
        {
          "data": {
            "text/html": [
              " View run at <a href='https://wandb.ai/sahil20326/CV_assignment1_Q2/runs/23um3cu4' target=\"_blank\">https://wandb.ai/sahil20326/CV_assignment1_Q2/runs/23um3cu4</a>"
            ],
            "text/plain": [
              "<IPython.core.display.HTML object>"
            ]
          },
          "metadata": {},
          "output_type": "display_data"
        },
        {
          "data": {
            "text/html": [
              "<button onClick=\"this.nextSibling.style.display='block';this.style.display='none';\">Display W&B run</button><iframe src='https://wandb.ai/sahil20326/CV_assignment1_Q2/runs/23um3cu4?jupyter=true' style='border:none;width:100%;height:420px;display:none;'></iframe>"
            ],
            "text/plain": [
              "<wandb.sdk.wandb_run.Run at 0x1df8546c550>"
            ]
          },
          "execution_count": 9,
          "metadata": {},
          "output_type": "execute_result"
        }
      ],
      "source": [
        "wandb.init(project=\"CV_assignment1_Q2\")"
      ]
    },
    {
      "cell_type": "code",
      "execution_count": 7,
      "metadata": {
        "id": "Tn-BW935PfJd"
      },
      "outputs": [
        {
          "name": "stdout",
          "output_type": "stream",
          "text": [
            "Epoch:  0  Loss:  0.19637889024190591\n",
            "Epoch:  1  Loss:  0.1660757751903744\n",
            "Epoch:  2  Loss:  0.16600251999396214\n"
          ]
        }
      ],
      "source": [
        "for epoch in range(3):\n",
        "    training_loss=0\n",
        "    for i,data in enumerate(train_loader,0):\n",
        "        img,lab=data\n",
        "        if img.shape[0]!=4:\n",
        "            continue\n",
        "        img=img.to(\"cuda\")\n",
        "        lab=lab.to(\"cuda\")\n",
        "        optimizer.zero_grad()\n",
        "        output=model(img)['out']\n",
        "        output=F.log_softmax(output,dim=1)\n",
        "        loss=criterion(output,lab.type(torch.long))\n",
        "        loss.backward()\n",
        "        optimizer.step()\n",
        "        wandb.log({\"loss\":loss.item()})\n",
        "        training_loss+=loss.item()\n",
        "    print(\"Epoch: \",epoch,\" Loss: \",training_loss/len(val_loader))"
      ]
    },
    {
      "cell_type": "code",
      "execution_count": 6,
      "metadata": {
        "id": "dVCwzP8gPfJd"
      },
      "outputs": [
        {
          "name": "stdout",
          "output_type": "stream",
          "text": [
            "Class:  background\n",
            "Pixel Accuracy:  0.93874191\n",
            "Precision:  0.97319174\n",
            "Recall:  0.96702663\n",
            "F1 Score 0.9700993900764234\n",
            "IOU:  0.93672047\n",
            "Class:  aeroplane\n",
            "Pixel Accuracy:  0.94131644\n",
            "Precision:  0.94183562\n",
            "Recall:  0.81752891\n",
            "F1 Score 0.8752908617724312\n",
            "IOU:  0.74724368\n",
            "Class:  bicycle\n",
            "Pixel Accuracy:  0.77944105\n",
            "Precision:  0.75982341\n",
            "Recall:  0.95215905\n",
            "F1 Score 0.8451870893973534\n",
            "IOU:  0.701024289\n",
            "Class:  bird\n",
            "Pixel Accuracy:  0.96861405\n",
            "Precision:  0.90574608\n",
            "Recall:  0.8771843\n",
            "F1 Score 0.8912364162671836\n",
            "IOU:  0.79372144\n",
            "Class:  boat\n",
            "Pixel Accuracy:  0.96182681\n",
            "Precision:  0.90313571\n",
            "Recall:  0.85205136\n",
            "F1 Score 0.876850135376243\n",
            "IOU:  0.78689414\n",
            "Class:  bottle\n",
            "Pixel Accuracy:  0.97814234\n",
            "Precision:  0.94209374\n",
            "Recall:  0.95355611\n",
            "F1 Score 0.94779027041281\n",
            "IOU:  0.88786517\n",
            "Class:  bus\n",
            "Pixel Accuracy:  0.9583311\n",
            "Precision:  0.9621419\n",
            "Recall:  0.96614589\n",
            "F1 Score 0.9641397379607853\n",
            "IOU:  0.91487375\n",
            "Class:  car\n",
            "Pixel Accuracy:  0.97224179\n",
            "Precision:  0.93619322\n",
            "Recall:  0.9162362\n",
            "F1 Score 0.9261072072139342\n",
            "IOU:  0.84225784\n",
            "Class:  cat\n",
            "Pixel Accuracy:  0.95824651\n",
            "Precision:  0.88919543\n",
            "Recall:  0.88925512\n",
            "F1 Score 0.8892252739983145\n",
            "IOU:  0.80641547\n",
            "Class:  chair\n",
            "Pixel Accuracy:  0.9125164\n",
            "Precision:  0.9322414\n",
            "Recall:  0.86855783\n",
            "F1 Score 0.8992735602404295\n",
            "IOU:  0.81010478\n",
            "Class:  cow\n",
            "Pixel Accuracy:  0.942504174\n",
            "Precision:  0.94294674\n",
            "Recall:  0.86761436\n",
            "F1 Score 0.9037133652536623\n",
            "IOU:  0.82146316\n",
            "Class:  dining_table\n",
            "Pixel Accuracy:  0.91404132\n",
            "Precision:  0.87213155\n",
            "Recall:  0.8459352\n",
            "F1 Score 0.8588336596067178\n",
            "IOU:  0.73261413\n",
            "Class:  dog\n",
            "Pixel Accuracy:  0.9656416\n",
            "Precision:  0.95705488\n",
            "Recall:  0.93443591\n",
            "F1 Score 0.9456101530504845\n",
            "IOU:  0.88751274\n",
            "Class:  horse\n",
            "Pixel Accuracy:  0.91343702\n",
            "Precision:  0.92162245\n",
            "Recall:  0.872193497\n",
            "F1 Score 0.8962269612147757\n",
            "IOU:  0.80573168\n",
            "Class:  motorbike\n",
            "Pixel Accuracy:  0.93697315\n",
            "Precision:  0.83262618\n",
            "Recall:  0.9203189\n",
            "F1 Score 0.874279084760376\n",
            "IOU:  0.75106411\n",
            "Class:  person\n",
            "Pixel Accuracy:  0.96824389\n",
            "Precision:  0.91663511\n",
            "Recall:  0.93272516\n",
            "F1 Score 0.9246101406043157\n",
            "IOU:  0.81610314\n",
            "Class:  potted_plant\n",
            "Pixel Accuracy:  0.98633103\n",
            "Precision:  0.83130135\n",
            "Recall:  0.97394585\n",
            "F1 Score 0.8969879581388049\n",
            "IOU:  0.79341341\n",
            "Class:  sheep\n",
            "Pixel Accuracy:  0.95134232\n",
            "Precision:  0.91725196\n",
            "Recall:  0.912352\n",
            "F1 Score 0.9147954185778217\n",
            "IOU:  0.80528426\n",
            "Class:  sofa\n",
            "Pixel Accuracy:  0.95662493\n",
            "Precision:  0.8789512\n",
            "Recall:  0.87612344\n",
            "F1 Score 0.8775350419696429\n",
            "IOU:  0.75144172\n",
            "Class:  train\n",
            "Pixel Accuracy:  0.9652354\n",
            "Precision:  0.96452056\n",
            "Recall:  0.878482665\n",
            "F1 Score 0.9194933362051957\n",
            "IOU:  0.85641319\n",
            "Class:  tv_monitor\n",
            "Pixel Accuracy:  0.93671324\n",
            "Precision:  0.935245741\n",
            "Recall:  0.84059827\n",
            "F1 Score 0.8853997840348242\n",
            "IOU:  0.78253231\n",
            "Mean Pixel Accuracy:  0.9431669749523809\n",
            "Average Precision:  0.9102802843333334\n"
          ]
        }
      ],
      "source": [
        "classwise_pixel_accuracy=[0]*21\n",
        "classwise_total_pixels=[0]*21\n",
        "conf=np.zeros((21,21))\n",
        "for i,data in enumerate(test_loader,0):\n",
        "    img,lab=data\n",
        "    if img.shape[0]!=4:\n",
        "        continue\n",
        "    img=img.to(\"cuda\")\n",
        "    lab=lab.to(\"cuda\")\n",
        "    output=model(img)['out']\n",
        "    output=torch.argmax(F.log_softmax(output,dim=1),dim=1)\n",
        "    for j in range(4):\n",
        "        for k in range(256):\n",
        "            for l in range(256):\n",
        "                classwise_total_pixels[int(lab[j,k,l])]+=1\n",
        "                if int(lab[j,k,l])==int(output[j,k,l]):\n",
        "                    classwise_pixel_accuracy[int(lab[j,k,l])]+=1\n",
        "                conf[int(lab[j,k,l]),int(output[j,k,l])]+=1\n",
        "for i in range(21):\n",
        "    print(\"Class: \",i)\n",
        "    print(\"Pixel Accuracy: \",classwise_pixel_accuracy[i]/(1e-16+classwise_total_pixels[i]))\n",
        "    prec=conf[i,i]/(np.sum(conf[:,i])+1e-16)\n",
        "    print(\"Precision: \",prec)\n",
        "    rec=conf[i,i]/(1e-16+np.sum(conf[i,:]))\n",
        "    print(\"Recall: \",rec)\n",
        "    print(\"F1 Score\",2*prec*rec/(1e-16+prec+rec))\n",
        "    print(\"IOU: \",conf[i,i]/(np.sum(conf[:,i])+np.sum(conf[i,:])-conf[i,i]+1e-16))\n",
        "print(\"Mean Pixel Accuracy: \",np.mean(classwise_pixel_accuracy))\n",
        "print(\"Average Precision: \",np.sum(conf.diagonal())/(1e-16+np.sum(conf)))"
      ]
    }
  ],
  "metadata": {
    "accelerator": "GPU",
    "colab": {
      "provenance": []
    },
    "gpuClass": "standard",
    "kernelspec": {
      "display_name": "Python 3",
      "language": "python",
      "name": "python3"
    },
    "language_info": {
      "codemirror_mode": {
        "name": "ipython",
        "version": 3
      },
      "file_extension": ".py",
      "mimetype": "text/x-python",
      "name": "python",
      "nbconvert_exporter": "python",
      "pygments_lexer": "ipython3",
      "version": "3.9.13"
    },
    "orig_nbformat": 4,
    "vscode": {
      "interpreter": {
        "hash": "73f740d5c1bfdb54657264f23682eac27116f540b86d05379e4c311416d922f6"
      }
    }
  },
  "nbformat": 4,
  "nbformat_minor": 0
}
